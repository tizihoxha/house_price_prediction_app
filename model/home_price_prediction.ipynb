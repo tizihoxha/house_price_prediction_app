{
 "cells": [
  {
   "cell_type": "code",
   "execution_count": 3,
   "id": "66590f63-1c1d-4c3d-8c86-80febb770ded",
   "metadata": {
    "tags": []
   },
   "outputs": [],
   "source": [
    "import pandas as pd\n",
    "import numpy as np\n",
    "from matplotlib import pyplot as plt\n",
    "%matplotlib inline\n",
    "import matplotlib\n",
    "matplotlib.rcParams[\"figure.figsize\"] = (20,10)"
   ]
  },
  {
   "cell_type": "code",
   "execution_count": 4,
   "id": "2951986b-350e-4e04-87c6-df641aa6c278",
   "metadata": {
    "tags": []
   },
   "outputs": [
    {
     "data": {
      "text/html": [
       "<div>\n",
       "<style scoped>\n",
       "    .dataframe tbody tr th:only-of-type {\n",
       "        vertical-align: middle;\n",
       "    }\n",
       "\n",
       "    .dataframe tbody tr th {\n",
       "        vertical-align: top;\n",
       "    }\n",
       "\n",
       "    .dataframe thead th {\n",
       "        text-align: right;\n",
       "    }\n",
       "</style>\n",
       "<table border=\"1\" class=\"dataframe\">\n",
       "  <thead>\n",
       "    <tr style=\"text-align: right;\">\n",
       "      <th></th>\n",
       "      <th>SALE TYPE</th>\n",
       "      <th>SOLD DATE</th>\n",
       "      <th>PROPERTY TYPE</th>\n",
       "      <th>ADDRESS</th>\n",
       "      <th>CITY</th>\n",
       "      <th>STATE OR PROVINCE</th>\n",
       "      <th>ZIP OR POSTAL CODE</th>\n",
       "      <th>PRICE</th>\n",
       "      <th>BEDS</th>\n",
       "      <th>BATHS</th>\n",
       "      <th>...</th>\n",
       "      <th>STATUS</th>\n",
       "      <th>NEXT OPEN HOUSE START TIME</th>\n",
       "      <th>NEXT OPEN HOUSE END TIME</th>\n",
       "      <th>URL (SEE https://www.redfin.com/buy-a-home/comparative-market-analysis FOR INFO ON PRICING)</th>\n",
       "      <th>SOURCE</th>\n",
       "      <th>MLS#</th>\n",
       "      <th>FAVORITE</th>\n",
       "      <th>INTERESTED</th>\n",
       "      <th>LATITUDE</th>\n",
       "      <th>LONGITUDE</th>\n",
       "    </tr>\n",
       "  </thead>\n",
       "  <tbody>\n",
       "    <tr>\n",
       "      <th>0</th>\n",
       "      <td>PAST SALE</td>\n",
       "      <td>NaN</td>\n",
       "      <td>Townhouse</td>\n",
       "      <td>2517 Marbourne Ave</td>\n",
       "      <td>Baltimore</td>\n",
       "      <td>MD</td>\n",
       "      <td>21230</td>\n",
       "      <td>100500.0</td>\n",
       "      <td>NaN</td>\n",
       "      <td>1.0</td>\n",
       "      <td>...</td>\n",
       "      <td>NaN</td>\n",
       "      <td>NaN</td>\n",
       "      <td>NaN</td>\n",
       "      <td>https://www.redfin.com/MD/Baltimore/2517-Marbo...</td>\n",
       "      <td>NaN</td>\n",
       "      <td>NaN</td>\n",
       "      <td>N</td>\n",
       "      <td>Y</td>\n",
       "      <td>39.254160</td>\n",
       "      <td>-76.649442</td>\n",
       "    </tr>\n",
       "    <tr>\n",
       "      <th>1</th>\n",
       "      <td>PAST SALE</td>\n",
       "      <td>NaN</td>\n",
       "      <td>Townhouse</td>\n",
       "      <td>704 W 36th St</td>\n",
       "      <td>Baltimore</td>\n",
       "      <td>MD</td>\n",
       "      <td>21211</td>\n",
       "      <td>335000.0</td>\n",
       "      <td>NaN</td>\n",
       "      <td>1.5</td>\n",
       "      <td>...</td>\n",
       "      <td>NaN</td>\n",
       "      <td>NaN</td>\n",
       "      <td>NaN</td>\n",
       "      <td>https://www.redfin.com/MD/Baltimore/704-W-36th...</td>\n",
       "      <td>NaN</td>\n",
       "      <td>NaN</td>\n",
       "      <td>N</td>\n",
       "      <td>Y</td>\n",
       "      <td>39.331455</td>\n",
       "      <td>-76.628557</td>\n",
       "    </tr>\n",
       "    <tr>\n",
       "      <th>2</th>\n",
       "      <td>PAST SALE</td>\n",
       "      <td>November-23-2022</td>\n",
       "      <td>Townhouse</td>\n",
       "      <td>1139 W Cross St</td>\n",
       "      <td>Baltimore</td>\n",
       "      <td>MD</td>\n",
       "      <td>21230</td>\n",
       "      <td>150000.0</td>\n",
       "      <td>2.0</td>\n",
       "      <td>1.5</td>\n",
       "      <td>...</td>\n",
       "      <td>Sold</td>\n",
       "      <td>NaN</td>\n",
       "      <td>NaN</td>\n",
       "      <td>https://www.redfin.com/MD/Baltimore/1139-W-Cro...</td>\n",
       "      <td>BRIGHT MLS</td>\n",
       "      <td>MDBA2063990</td>\n",
       "      <td>N</td>\n",
       "      <td>Y</td>\n",
       "      <td>39.281726</td>\n",
       "      <td>-76.631217</td>\n",
       "    </tr>\n",
       "  </tbody>\n",
       "</table>\n",
       "<p>3 rows × 27 columns</p>\n",
       "</div>"
      ],
      "text/plain": [
       "   SALE TYPE         SOLD DATE PROPERTY TYPE             ADDRESS       CITY  \\\n",
       "0  PAST SALE               NaN     Townhouse  2517 Marbourne Ave  Baltimore   \n",
       "1  PAST SALE               NaN     Townhouse       704 W 36th St  Baltimore   \n",
       "2  PAST SALE  November-23-2022     Townhouse     1139 W Cross St  Baltimore   \n",
       "\n",
       "  STATE OR PROVINCE ZIP OR POSTAL CODE     PRICE  BEDS  BATHS  ... STATUS  \\\n",
       "0                MD              21230  100500.0   NaN    1.0  ...    NaN   \n",
       "1                MD              21211  335000.0   NaN    1.5  ...    NaN   \n",
       "2                MD              21230  150000.0   2.0    1.5  ...   Sold   \n",
       "\n",
       "   NEXT OPEN HOUSE START TIME  NEXT OPEN HOUSE END TIME  \\\n",
       "0                         NaN                       NaN   \n",
       "1                         NaN                       NaN   \n",
       "2                         NaN                       NaN   \n",
       "\n",
       "   URL (SEE https://www.redfin.com/buy-a-home/comparative-market-analysis FOR INFO ON PRICING)  \\\n",
       "0  https://www.redfin.com/MD/Baltimore/2517-Marbo...                                             \n",
       "1  https://www.redfin.com/MD/Baltimore/704-W-36th...                                             \n",
       "2  https://www.redfin.com/MD/Baltimore/1139-W-Cro...                                             \n",
       "\n",
       "       SOURCE         MLS#  FAVORITE INTERESTED   LATITUDE  LONGITUDE  \n",
       "0         NaN          NaN         N          Y  39.254160 -76.649442  \n",
       "1         NaN          NaN         N          Y  39.331455 -76.628557  \n",
       "2  BRIGHT MLS  MDBA2063990         N          Y  39.281726 -76.631217  \n",
       "\n",
       "[3 rows x 27 columns]"
      ]
     },
     "execution_count": 4,
     "metadata": {},
     "output_type": "execute_result"
    }
   ],
   "source": [
    "df = pd.read_csv('data.csv')\n",
    "df.head(3)"
   ]
  },
  {
   "cell_type": "code",
   "execution_count": 5,
   "id": "2148e006-4858-4ce8-9078-751a46c245e1",
   "metadata": {
    "tags": []
   },
   "outputs": [
    {
     "data": {
      "text/plain": [
       "(8324, 27)"
      ]
     },
     "execution_count": 5,
     "metadata": {},
     "output_type": "execute_result"
    }
   ],
   "source": [
    "df.shape"
   ]
  },
  {
   "cell_type": "code",
   "execution_count": 6,
   "id": "7afb9df0-64bb-4137-a4e1-e6148203ab2f",
   "metadata": {
    "tags": []
   },
   "outputs": [
    {
     "data": {
      "text/html": [
       "<div>\n",
       "<style scoped>\n",
       "    .dataframe tbody tr th:only-of-type {\n",
       "        vertical-align: middle;\n",
       "    }\n",
       "\n",
       "    .dataframe tbody tr th {\n",
       "        vertical-align: top;\n",
       "    }\n",
       "\n",
       "    .dataframe thead th {\n",
       "        text-align: right;\n",
       "    }\n",
       "</style>\n",
       "<table border=\"1\" class=\"dataframe\">\n",
       "  <thead>\n",
       "    <tr style=\"text-align: right;\">\n",
       "      <th></th>\n",
       "      <th>CITY</th>\n",
       "      <th>PRICE</th>\n",
       "      <th>BEDS</th>\n",
       "      <th>BATHS</th>\n",
       "      <th>SQFT</th>\n",
       "      <th>PRICE/SQFT</th>\n",
       "    </tr>\n",
       "  </thead>\n",
       "  <tbody>\n",
       "    <tr>\n",
       "      <th>0</th>\n",
       "      <td>Baltimore</td>\n",
       "      <td>100500.0</td>\n",
       "      <td>NaN</td>\n",
       "      <td>1.0</td>\n",
       "      <td>1024.0</td>\n",
       "      <td>98.0</td>\n",
       "    </tr>\n",
       "    <tr>\n",
       "      <th>1</th>\n",
       "      <td>Baltimore</td>\n",
       "      <td>335000.0</td>\n",
       "      <td>NaN</td>\n",
       "      <td>1.5</td>\n",
       "      <td>1780.0</td>\n",
       "      <td>188.0</td>\n",
       "    </tr>\n",
       "    <tr>\n",
       "      <th>2</th>\n",
       "      <td>Baltimore</td>\n",
       "      <td>150000.0</td>\n",
       "      <td>2.0</td>\n",
       "      <td>1.5</td>\n",
       "      <td>1152.0</td>\n",
       "      <td>130.0</td>\n",
       "    </tr>\n",
       "    <tr>\n",
       "      <th>3</th>\n",
       "      <td>Baltimore</td>\n",
       "      <td>285000.0</td>\n",
       "      <td>NaN</td>\n",
       "      <td>2.5</td>\n",
       "      <td>2094.0</td>\n",
       "      <td>136.0</td>\n",
       "    </tr>\n",
       "    <tr>\n",
       "      <th>4</th>\n",
       "      <td>Baltimore</td>\n",
       "      <td>250000.0</td>\n",
       "      <td>NaN</td>\n",
       "      <td>2.0</td>\n",
       "      <td>1761.0</td>\n",
       "      <td>142.0</td>\n",
       "    </tr>\n",
       "  </tbody>\n",
       "</table>\n",
       "</div>"
      ],
      "text/plain": [
       "        CITY     PRICE  BEDS  BATHS    SQFT  PRICE/SQFT\n",
       "0  Baltimore  100500.0   NaN    1.0  1024.0        98.0\n",
       "1  Baltimore  335000.0   NaN    1.5  1780.0       188.0\n",
       "2  Baltimore  150000.0   2.0    1.5  1152.0       130.0\n",
       "3  Baltimore  285000.0   NaN    2.5  2094.0       136.0\n",
       "4  Baltimore  250000.0   NaN    2.0  1761.0       142.0"
      ]
     },
     "execution_count": 6,
     "metadata": {},
     "output_type": "execute_result"
    }
   ],
   "source": [
    "df1 = df.drop(\n",
    "    ['SALE TYPE','SOLD DATE','NEXT OPEN HOUSE START TIME','NEXT OPEN HOUSE END TIME','ADDRESS',\n",
    "     'STATUS','URL (SEE https://www.redfin.com/buy-a-home/comparative-market-analysis FOR INFO ON PRICING)',\n",
    "     'DAYS ON MARKET','SOURCE','HOA/MONTH', 'LOT SIZE','MLS#', 'FAVORITE', 'INTERESTED', 'STATE OR PROVINCE', 'LATITUDE',\n",
    "     'LONGITUDE', 'ZIP OR POSTAL CODE', 'PROPERTY TYPE', 'YEAR BUILT', 'LOCATION'],axis='columns')\n",
    "df1.rename(columns = {'$/SQUARE FEET':'PRICE/SQFT', 'SQUARE FEET': 'SQFT'}, inplace = True)\n",
    "df1.head()"
   ]
  },
  {
   "cell_type": "code",
   "execution_count": 7,
   "id": "d2139a4e-2f3e-4ca3-9b94-b0e3d68f5442",
   "metadata": {
    "tags": []
   },
   "outputs": [
    {
     "data": {
      "text/plain": [
       "(8324, 6)"
      ]
     },
     "execution_count": 7,
     "metadata": {},
     "output_type": "execute_result"
    }
   ],
   "source": [
    "df1.shape"
   ]
  },
  {
   "cell_type": "code",
   "execution_count": 8,
   "id": "bbbdfc38-5452-4f9f-bfc7-6c122f1e0799",
   "metadata": {
    "tags": []
   },
   "outputs": [
    {
     "data": {
      "text/plain": [
       "CITY            0\n",
       "PRICE           2\n",
       "BEDS          865\n",
       "BATHS         505\n",
       "SQFT          584\n",
       "PRICE/SQFT    586\n",
       "dtype: int64"
      ]
     },
     "execution_count": 8,
     "metadata": {},
     "output_type": "execute_result"
    }
   ],
   "source": [
    "df1.isnull().sum()"
   ]
  },
  {
   "cell_type": "code",
   "execution_count": 9,
   "id": "a6e14d53-28b4-4729-9b71-c86389a4bb54",
   "metadata": {
    "tags": []
   },
   "outputs": [
    {
     "data": {
      "text/plain": [
       "CITY          0\n",
       "PRICE         0\n",
       "BEDS          0\n",
       "BATHS         0\n",
       "SQFT          0\n",
       "PRICE/SQFT    0\n",
       "dtype: int64"
      ]
     },
     "execution_count": 9,
     "metadata": {},
     "output_type": "execute_result"
    }
   ],
   "source": [
    "df2 = df1.dropna()\n",
    "df2.isnull().sum()"
   ]
  },
  {
   "cell_type": "code",
   "execution_count": 10,
   "id": "32da58f6-984c-498f-9ab9-9566889e1d8b",
   "metadata": {
    "tags": []
   },
   "outputs": [
    {
     "data": {
      "text/plain": [
       "(7083, 6)"
      ]
     },
     "execution_count": 10,
     "metadata": {},
     "output_type": "execute_result"
    }
   ],
   "source": [
    "df2.shape"
   ]
  },
  {
   "cell_type": "code",
   "execution_count": 11,
   "id": "7146cc87-006e-4664-90db-52c337782e8f",
   "metadata": {
    "tags": []
   },
   "outputs": [
    {
     "data": {
      "text/html": [
       "<div>\n",
       "<style scoped>\n",
       "    .dataframe tbody tr th:only-of-type {\n",
       "        vertical-align: middle;\n",
       "    }\n",
       "\n",
       "    .dataframe tbody tr th {\n",
       "        vertical-align: top;\n",
       "    }\n",
       "\n",
       "    .dataframe thead th {\n",
       "        text-align: right;\n",
       "    }\n",
       "</style>\n",
       "<table border=\"1\" class=\"dataframe\">\n",
       "  <thead>\n",
       "    <tr style=\"text-align: right;\">\n",
       "      <th></th>\n",
       "      <th>CITY</th>\n",
       "      <th>PRICE</th>\n",
       "      <th>BEDS</th>\n",
       "      <th>BATHS</th>\n",
       "      <th>SQFT</th>\n",
       "      <th>PRICE/SQFT</th>\n",
       "    </tr>\n",
       "  </thead>\n",
       "  <tbody>\n",
       "    <tr>\n",
       "      <th>2</th>\n",
       "      <td>Baltimore</td>\n",
       "      <td>150000.0</td>\n",
       "      <td>2.0</td>\n",
       "      <td>1.5</td>\n",
       "      <td>1152.0</td>\n",
       "      <td>130.0</td>\n",
       "    </tr>\n",
       "    <tr>\n",
       "      <th>8</th>\n",
       "      <td>Baltimore</td>\n",
       "      <td>180000.0</td>\n",
       "      <td>2.0</td>\n",
       "      <td>2.0</td>\n",
       "      <td>1461.0</td>\n",
       "      <td>123.0</td>\n",
       "    </tr>\n",
       "    <tr>\n",
       "      <th>9</th>\n",
       "      <td>Baltimore</td>\n",
       "      <td>215000.0</td>\n",
       "      <td>3.0</td>\n",
       "      <td>2.0</td>\n",
       "      <td>1728.0</td>\n",
       "      <td>124.0</td>\n",
       "    </tr>\n",
       "  </tbody>\n",
       "</table>\n",
       "</div>"
      ],
      "text/plain": [
       "        CITY     PRICE  BEDS  BATHS    SQFT  PRICE/SQFT\n",
       "2  Baltimore  150000.0   2.0    1.5  1152.0       130.0\n",
       "8  Baltimore  180000.0   2.0    2.0  1461.0       123.0\n",
       "9  Baltimore  215000.0   3.0    2.0  1728.0       124.0"
      ]
     },
     "execution_count": 11,
     "metadata": {},
     "output_type": "execute_result"
    }
   ],
   "source": [
    "df2.head(3)"
   ]
  },
  {
   "cell_type": "code",
   "execution_count": 12,
   "id": "45943722-50d9-4d87-9f81-dbc1bc2da05e",
   "metadata": {
    "tags": []
   },
   "outputs": [
    {
     "data": {
      "text/html": [
       "<div>\n",
       "<style scoped>\n",
       "    .dataframe tbody tr th:only-of-type {\n",
       "        vertical-align: middle;\n",
       "    }\n",
       "\n",
       "    .dataframe tbody tr th {\n",
       "        vertical-align: top;\n",
       "    }\n",
       "\n",
       "    .dataframe thead th {\n",
       "        text-align: right;\n",
       "    }\n",
       "</style>\n",
       "<table border=\"1\" class=\"dataframe\">\n",
       "  <thead>\n",
       "    <tr style=\"text-align: right;\">\n",
       "      <th></th>\n",
       "      <th>CITY</th>\n",
       "      <th>PRICE</th>\n",
       "      <th>BEDS</th>\n",
       "      <th>BATHS</th>\n",
       "      <th>SQFT</th>\n",
       "      <th>PRICE/SQFT</th>\n",
       "    </tr>\n",
       "  </thead>\n",
       "  <tbody>\n",
       "    <tr>\n",
       "      <th>2</th>\n",
       "      <td>Baltimore</td>\n",
       "      <td>150000.0</td>\n",
       "      <td>2.0</td>\n",
       "      <td>1.5</td>\n",
       "      <td>1152.0</td>\n",
       "      <td>130.0</td>\n",
       "    </tr>\n",
       "    <tr>\n",
       "      <th>8</th>\n",
       "      <td>Baltimore</td>\n",
       "      <td>180000.0</td>\n",
       "      <td>2.0</td>\n",
       "      <td>2.0</td>\n",
       "      <td>1461.0</td>\n",
       "      <td>123.0</td>\n",
       "    </tr>\n",
       "    <tr>\n",
       "      <th>9</th>\n",
       "      <td>Baltimore</td>\n",
       "      <td>215000.0</td>\n",
       "      <td>3.0</td>\n",
       "      <td>2.0</td>\n",
       "      <td>1728.0</td>\n",
       "      <td>124.0</td>\n",
       "    </tr>\n",
       "    <tr>\n",
       "      <th>10</th>\n",
       "      <td>Baltimore</td>\n",
       "      <td>190000.0</td>\n",
       "      <td>3.0</td>\n",
       "      <td>2.0</td>\n",
       "      <td>1575.0</td>\n",
       "      <td>121.0</td>\n",
       "    </tr>\n",
       "    <tr>\n",
       "      <th>11</th>\n",
       "      <td>Baltimore</td>\n",
       "      <td>145000.0</td>\n",
       "      <td>1.0</td>\n",
       "      <td>1.0</td>\n",
       "      <td>924.0</td>\n",
       "      <td>157.0</td>\n",
       "    </tr>\n",
       "  </tbody>\n",
       "</table>\n",
       "</div>"
      ],
      "text/plain": [
       "         CITY     PRICE  BEDS  BATHS    SQFT  PRICE/SQFT\n",
       "2   Baltimore  150000.0   2.0    1.5  1152.0       130.0\n",
       "8   Baltimore  180000.0   2.0    2.0  1461.0       123.0\n",
       "9   Baltimore  215000.0   3.0    2.0  1728.0       124.0\n",
       "10  Baltimore  190000.0   3.0    2.0  1575.0       121.0\n",
       "11  Baltimore  145000.0   1.0    1.0   924.0       157.0"
      ]
     },
     "execution_count": 12,
     "metadata": {},
     "output_type": "execute_result"
    }
   ],
   "source": [
    "df3=df2.copy()\n",
    "df3['BATHS'] = df3['BATHS'].astype(float)\n",
    "df3.head()\n"
   ]
  },
  {
   "cell_type": "code",
   "execution_count": 13,
   "id": "78d0e84b-43af-4e84-8c22-dffac8723564",
   "metadata": {
    "tags": []
   },
   "outputs": [
    {
     "data": {
      "text/html": [
       "<div>\n",
       "<style scoped>\n",
       "    .dataframe tbody tr th:only-of-type {\n",
       "        vertical-align: middle;\n",
       "    }\n",
       "\n",
       "    .dataframe tbody tr th {\n",
       "        vertical-align: top;\n",
       "    }\n",
       "\n",
       "    .dataframe thead th {\n",
       "        text-align: right;\n",
       "    }\n",
       "</style>\n",
       "<table border=\"1\" class=\"dataframe\">\n",
       "  <thead>\n",
       "    <tr style=\"text-align: right;\">\n",
       "      <th></th>\n",
       "      <th>CITY</th>\n",
       "      <th>PRICE</th>\n",
       "      <th>BEDS</th>\n",
       "      <th>BATHS</th>\n",
       "      <th>SQFT</th>\n",
       "      <th>PRICE/SQFT</th>\n",
       "    </tr>\n",
       "  </thead>\n",
       "  <tbody>\n",
       "  </tbody>\n",
       "</table>\n",
       "</div>"
      ],
      "text/plain": [
       "Empty DataFrame\n",
       "Columns: [CITY, PRICE, BEDS, BATHS, SQFT, PRICE/SQFT]\n",
       "Index: []"
      ]
     },
     "execution_count": 13,
     "metadata": {},
     "output_type": "execute_result"
    }
   ],
   "source": [
    "def is_float(x):\n",
    "    try:\n",
    "        float(x)\n",
    "    except:\n",
    "        return False\n",
    "    return True\n",
    "df3[~df3['SQFT'].apply(is_float)].head(10)"
   ]
  },
  {
   "cell_type": "code",
   "execution_count": 14,
   "id": "83b1f349-e8b1-448c-8627-15b1e661a7ad",
   "metadata": {
    "tags": []
   },
   "outputs": [
    {
     "data": {
      "text/plain": [
       "(7083, 6)"
      ]
     },
     "execution_count": 14,
     "metadata": {},
     "output_type": "execute_result"
    }
   ],
   "source": [
    "df3.shape"
   ]
  },
  {
   "cell_type": "code",
   "execution_count": 15,
   "id": "3deb6d80-b566-4fc2-ad34-64c3c17fa641",
   "metadata": {
    "tags": []
   },
   "outputs": [
    {
     "data": {
      "text/plain": [
       "count    7083.000000\n",
       "mean      380.121135\n",
       "std       374.911074\n",
       "min         0.000000\n",
       "25%       162.000000\n",
       "50%       247.000000\n",
       "75%       484.000000\n",
       "max      5026.000000\n",
       "Name: PRICE/SQFT, dtype: float64"
      ]
     },
     "execution_count": 15,
     "metadata": {},
     "output_type": "execute_result"
    }
   ],
   "source": [
    "df4=df3.copy()\n",
    "df4_stats = df4['PRICE/SQFT'].describe()\n",
    "df4_stats"
   ]
  },
  {
   "cell_type": "code",
   "execution_count": 16,
   "id": "33f8bf3b-8c8b-4205-b086-fe98b1921d16",
   "metadata": {
    "tags": []
   },
   "outputs": [],
   "source": [
    "df4.to_csv(\"hsp.csv\",index=False)"
   ]
  },
  {
   "cell_type": "code",
   "execution_count": 17,
   "id": "333c9ec3-d91a-4787-84d0-d3d84f0a4a8f",
   "metadata": {
    "tags": []
   },
   "outputs": [
    {
     "data": {
      "text/plain": [
       "Seattle              339\n",
       "Vancouver            333\n",
       "San Jose             325\n",
       "Jacksonville         323\n",
       "Chicago              322\n",
       "                    ... \n",
       "Grandview Heights      1\n",
       "Groveport              1\n",
       "Park Ridge             1\n",
       "Whiting                1\n",
       "Oxon Hill              1\n",
       "Name: CITY, Length: 284, dtype: int64"
      ]
     },
     "execution_count": 17,
     "metadata": {},
     "output_type": "execute_result"
    }
   ],
   "source": [
    "df5=df4.copy()\n",
    "df5.CITY = df5.CITY.apply(lambda x: x.strip())\n",
    "location_stats = df5['CITY'].value_counts(ascending=False)\n",
    "location_stats"
   ]
  },
  {
   "cell_type": "code",
   "execution_count": 18,
   "id": "8e136366-d087-4a2e-9c3f-8d86c4402091",
   "metadata": {
    "tags": []
   },
   "outputs": [
    {
     "data": {
      "text/plain": [
       "7083"
      ]
     },
     "execution_count": 18,
     "metadata": {},
     "output_type": "execute_result"
    }
   ],
   "source": [
    "location_stats.values.sum()"
   ]
  },
  {
   "cell_type": "code",
   "execution_count": 19,
   "id": "7efeb045-2d99-4a28-8111-3d0431eba1fb",
   "metadata": {
    "tags": []
   },
   "outputs": [
    {
     "data": {
      "text/plain": [
       "41"
      ]
     },
     "execution_count": 19,
     "metadata": {},
     "output_type": "execute_result"
    }
   ],
   "source": [
    "len(location_stats[location_stats>10])"
   ]
  },
  {
   "cell_type": "code",
   "execution_count": 20,
   "id": "0e07a70f-f1a7-48f1-9394-30dca75d9581",
   "metadata": {
    "tags": []
   },
   "outputs": [
    {
     "data": {
      "text/plain": [
       "284"
      ]
     },
     "execution_count": 20,
     "metadata": {},
     "output_type": "execute_result"
    }
   ],
   "source": [
    "len(location_stats)"
   ]
  },
  {
   "cell_type": "code",
   "execution_count": 21,
   "id": "99f80b64-45c1-47eb-80da-997f5ed87537",
   "metadata": {
    "tags": []
   },
   "outputs": [
    {
     "data": {
      "text/plain": [
       "243"
      ]
     },
     "execution_count": 21,
     "metadata": {},
     "output_type": "execute_result"
    }
   ],
   "source": [
    "len(location_stats[location_stats<=10])"
   ]
  },
  {
   "cell_type": "code",
   "execution_count": 22,
   "id": "6f01eaae-c03b-42b1-99fc-9bb0d9340da3",
   "metadata": {
    "tags": []
   },
   "outputs": [
    {
     "data": {
      "text/plain": [
       "Bronx                10\n",
       "Campbell             10\n",
       "Galloway              9\n",
       "Katy                  9\n",
       "Laveen                9\n",
       "                     ..\n",
       "Grandview Heights     1\n",
       "Groveport             1\n",
       "Park Ridge            1\n",
       "Whiting               1\n",
       "Oxon Hill             1\n",
       "Name: CITY, Length: 243, dtype: int64"
      ]
     },
     "execution_count": 22,
     "metadata": {},
     "output_type": "execute_result"
    }
   ],
   "source": [
    "location_stats_less_than_10 = location_stats[location_stats<=10]\n",
    "location_stats_less_than_10"
   ]
  },
  {
   "cell_type": "code",
   "execution_count": 23,
   "id": "713eaeb1-eb2a-4451-9b36-11580b39434e",
   "metadata": {
    "tags": []
   },
   "outputs": [
    {
     "data": {
      "text/plain": [
       "284"
      ]
     },
     "execution_count": 23,
     "metadata": {},
     "output_type": "execute_result"
    }
   ],
   "source": [
    "len(df5.CITY.unique())"
   ]
  },
  {
   "cell_type": "code",
   "execution_count": 24,
   "id": "6b2eff64-820c-4943-8d72-2df9ff6f173c",
   "metadata": {
    "tags": []
   },
   "outputs": [
    {
     "data": {
      "text/plain": [
       "42"
      ]
     },
     "execution_count": 24,
     "metadata": {},
     "output_type": "execute_result"
    }
   ],
   "source": [
    "df6 = df5.copy()\n",
    "df6.CITY = df6.CITY.apply(lambda x: 'other' if x in location_stats_less_than_10 else x)\n",
    "len(df6.CITY.unique())"
   ]
  },
  {
   "cell_type": "code",
   "execution_count": 25,
   "id": "8a466064-c52f-4d92-8495-81e5cdd14cd4",
   "metadata": {
    "tags": []
   },
   "outputs": [
    {
     "data": {
      "text/html": [
       "<div>\n",
       "<style scoped>\n",
       "    .dataframe tbody tr th:only-of-type {\n",
       "        vertical-align: middle;\n",
       "    }\n",
       "\n",
       "    .dataframe tbody tr th {\n",
       "        vertical-align: top;\n",
       "    }\n",
       "\n",
       "    .dataframe thead th {\n",
       "        text-align: right;\n",
       "    }\n",
       "</style>\n",
       "<table border=\"1\" class=\"dataframe\">\n",
       "  <thead>\n",
       "    <tr style=\"text-align: right;\">\n",
       "      <th></th>\n",
       "      <th>CITY</th>\n",
       "      <th>PRICE</th>\n",
       "      <th>BEDS</th>\n",
       "      <th>BATHS</th>\n",
       "      <th>SQFT</th>\n",
       "      <th>PRICE/SQFT</th>\n",
       "    </tr>\n",
       "  </thead>\n",
       "  <tbody>\n",
       "    <tr>\n",
       "      <th>2</th>\n",
       "      <td>Baltimore</td>\n",
       "      <td>150000.0</td>\n",
       "      <td>2.0</td>\n",
       "      <td>1.5</td>\n",
       "      <td>1152.0</td>\n",
       "      <td>130.0</td>\n",
       "    </tr>\n",
       "    <tr>\n",
       "      <th>8</th>\n",
       "      <td>Baltimore</td>\n",
       "      <td>180000.0</td>\n",
       "      <td>2.0</td>\n",
       "      <td>2.0</td>\n",
       "      <td>1461.0</td>\n",
       "      <td>123.0</td>\n",
       "    </tr>\n",
       "    <tr>\n",
       "      <th>9</th>\n",
       "      <td>Baltimore</td>\n",
       "      <td>215000.0</td>\n",
       "      <td>3.0</td>\n",
       "      <td>2.0</td>\n",
       "      <td>1728.0</td>\n",
       "      <td>124.0</td>\n",
       "    </tr>\n",
       "    <tr>\n",
       "      <th>10</th>\n",
       "      <td>Baltimore</td>\n",
       "      <td>190000.0</td>\n",
       "      <td>3.0</td>\n",
       "      <td>2.0</td>\n",
       "      <td>1575.0</td>\n",
       "      <td>121.0</td>\n",
       "    </tr>\n",
       "    <tr>\n",
       "      <th>11</th>\n",
       "      <td>Baltimore</td>\n",
       "      <td>145000.0</td>\n",
       "      <td>1.0</td>\n",
       "      <td>1.0</td>\n",
       "      <td>924.0</td>\n",
       "      <td>157.0</td>\n",
       "    </tr>\n",
       "    <tr>\n",
       "      <th>12</th>\n",
       "      <td>Baltimore</td>\n",
       "      <td>381000.0</td>\n",
       "      <td>4.0</td>\n",
       "      <td>3.5</td>\n",
       "      <td>3059.0</td>\n",
       "      <td>125.0</td>\n",
       "    </tr>\n",
       "    <tr>\n",
       "      <th>17</th>\n",
       "      <td>Baltimore</td>\n",
       "      <td>385000.0</td>\n",
       "      <td>5.0</td>\n",
       "      <td>3.5</td>\n",
       "      <td>3306.0</td>\n",
       "      <td>116.0</td>\n",
       "    </tr>\n",
       "    <tr>\n",
       "      <th>24</th>\n",
       "      <td>Baltimore</td>\n",
       "      <td>115000.0</td>\n",
       "      <td>3.0</td>\n",
       "      <td>1.0</td>\n",
       "      <td>1216.0</td>\n",
       "      <td>95.0</td>\n",
       "    </tr>\n",
       "    <tr>\n",
       "      <th>25</th>\n",
       "      <td>Baltimore</td>\n",
       "      <td>210000.0</td>\n",
       "      <td>3.0</td>\n",
       "      <td>1.5</td>\n",
       "      <td>1400.0</td>\n",
       "      <td>150.0</td>\n",
       "    </tr>\n",
       "    <tr>\n",
       "      <th>27</th>\n",
       "      <td>Baltimore</td>\n",
       "      <td>340000.0</td>\n",
       "      <td>3.0</td>\n",
       "      <td>1.5</td>\n",
       "      <td>1734.0</td>\n",
       "      <td>196.0</td>\n",
       "    </tr>\n",
       "  </tbody>\n",
       "</table>\n",
       "</div>"
      ],
      "text/plain": [
       "         CITY     PRICE  BEDS  BATHS    SQFT  PRICE/SQFT\n",
       "2   Baltimore  150000.0   2.0    1.5  1152.0       130.0\n",
       "8   Baltimore  180000.0   2.0    2.0  1461.0       123.0\n",
       "9   Baltimore  215000.0   3.0    2.0  1728.0       124.0\n",
       "10  Baltimore  190000.0   3.0    2.0  1575.0       121.0\n",
       "11  Baltimore  145000.0   1.0    1.0   924.0       157.0\n",
       "12  Baltimore  381000.0   4.0    3.5  3059.0       125.0\n",
       "17  Baltimore  385000.0   5.0    3.5  3306.0       116.0\n",
       "24  Baltimore  115000.0   3.0    1.0  1216.0        95.0\n",
       "25  Baltimore  210000.0   3.0    1.5  1400.0       150.0\n",
       "27  Baltimore  340000.0   3.0    1.5  1734.0       196.0"
      ]
     },
     "execution_count": 25,
     "metadata": {},
     "output_type": "execute_result"
    }
   ],
   "source": [
    "df6.head(10)"
   ]
  },
  {
   "cell_type": "code",
   "execution_count": 26,
   "id": "785529cc-ec8b-48a8-9672-000c746b8b6c",
   "metadata": {
    "tags": []
   },
   "outputs": [
    {
     "data": {
      "text/html": [
       "<div>\n",
       "<style scoped>\n",
       "    .dataframe tbody tr th:only-of-type {\n",
       "        vertical-align: middle;\n",
       "    }\n",
       "\n",
       "    .dataframe tbody tr th {\n",
       "        vertical-align: top;\n",
       "    }\n",
       "\n",
       "    .dataframe thead th {\n",
       "        text-align: right;\n",
       "    }\n",
       "</style>\n",
       "<table border=\"1\" class=\"dataframe\">\n",
       "  <thead>\n",
       "    <tr style=\"text-align: right;\">\n",
       "      <th></th>\n",
       "      <th>CITY</th>\n",
       "      <th>PRICE</th>\n",
       "      <th>BEDS</th>\n",
       "      <th>BATHS</th>\n",
       "      <th>SQFT</th>\n",
       "      <th>PRICE/SQFT</th>\n",
       "    </tr>\n",
       "  </thead>\n",
       "  <tbody>\n",
       "    <tr>\n",
       "      <th>316</th>\n",
       "      <td>Baltimore</td>\n",
       "      <td>55000.0</td>\n",
       "      <td>2.0</td>\n",
       "      <td>1.0</td>\n",
       "      <td>50.0</td>\n",
       "      <td>1100.0</td>\n",
       "    </tr>\n",
       "    <tr>\n",
       "      <th>1110</th>\n",
       "      <td>Chicago</td>\n",
       "      <td>310000.0</td>\n",
       "      <td>49.0</td>\n",
       "      <td>28.0</td>\n",
       "      <td>6264.0</td>\n",
       "      <td>49.0</td>\n",
       "    </tr>\n",
       "    <tr>\n",
       "      <th>1355</th>\n",
       "      <td>Chicago</td>\n",
       "      <td>78500.0</td>\n",
       "      <td>5.0</td>\n",
       "      <td>3.0</td>\n",
       "      <td>874.0</td>\n",
       "      <td>90.0</td>\n",
       "    </tr>\n",
       "    <tr>\n",
       "      <th>1579</th>\n",
       "      <td>Cleveland</td>\n",
       "      <td>144500.0</td>\n",
       "      <td>4.0</td>\n",
       "      <td>2.0</td>\n",
       "      <td>745.0</td>\n",
       "      <td>194.0</td>\n",
       "    </tr>\n",
       "    <tr>\n",
       "      <th>2734</th>\n",
       "      <td>Detroit</td>\n",
       "      <td>167000.0</td>\n",
       "      <td>6.0</td>\n",
       "      <td>2.0</td>\n",
       "      <td>1140.0</td>\n",
       "      <td>146.0</td>\n",
       "    </tr>\n",
       "  </tbody>\n",
       "</table>\n",
       "</div>"
      ],
      "text/plain": [
       "           CITY     PRICE  BEDS  BATHS    SQFT  PRICE/SQFT\n",
       "316   Baltimore   55000.0   2.0    1.0    50.0      1100.0\n",
       "1110    Chicago  310000.0  49.0   28.0  6264.0        49.0\n",
       "1355    Chicago   78500.0   5.0    3.0   874.0        90.0\n",
       "1579  Cleveland  144500.0   4.0    2.0   745.0       194.0\n",
       "2734    Detroit  167000.0   6.0    2.0  1140.0       146.0"
      ]
     },
     "execution_count": 26,
     "metadata": {},
     "output_type": "execute_result"
    }
   ],
   "source": [
    "df6[df6.SQFT/df6.BEDS<200].head()"
   ]
  },
  {
   "cell_type": "code",
   "execution_count": 27,
   "id": "bc964203-680e-4c1c-abd4-a33b15f09b28",
   "metadata": {
    "tags": []
   },
   "outputs": [
    {
     "data": {
      "text/plain": [
       "(7070, 6)"
      ]
     },
     "execution_count": 27,
     "metadata": {},
     "output_type": "execute_result"
    }
   ],
   "source": [
    "df7 = df6.copy()\n",
    "df7 = df7[~(df7.SQFT/(df7.BEDS)<200)]\n",
    "df7.shape"
   ]
  },
  {
   "cell_type": "code",
   "execution_count": 28,
   "id": "d1c907ea-5c0d-4930-8c48-210cfda9696c",
   "metadata": {
    "tags": []
   },
   "outputs": [
    {
     "data": {
      "text/html": [
       "<div>\n",
       "<style scoped>\n",
       "    .dataframe tbody tr th:only-of-type {\n",
       "        vertical-align: middle;\n",
       "    }\n",
       "\n",
       "    .dataframe tbody tr th {\n",
       "        vertical-align: top;\n",
       "    }\n",
       "\n",
       "    .dataframe thead th {\n",
       "        text-align: right;\n",
       "    }\n",
       "</style>\n",
       "<table border=\"1\" class=\"dataframe\">\n",
       "  <thead>\n",
       "    <tr style=\"text-align: right;\">\n",
       "      <th></th>\n",
       "      <th>CITY</th>\n",
       "      <th>PRICE</th>\n",
       "      <th>BEDS</th>\n",
       "      <th>BATHS</th>\n",
       "      <th>SQFT</th>\n",
       "      <th>PRICE_SQFT</th>\n",
       "    </tr>\n",
       "  </thead>\n",
       "  <tbody>\n",
       "    <tr>\n",
       "      <th>2</th>\n",
       "      <td>Baltimore</td>\n",
       "      <td>150000.0</td>\n",
       "      <td>2.0</td>\n",
       "      <td>1.5</td>\n",
       "      <td>1152.0</td>\n",
       "      <td>130.0</td>\n",
       "    </tr>\n",
       "    <tr>\n",
       "      <th>8</th>\n",
       "      <td>Baltimore</td>\n",
       "      <td>180000.0</td>\n",
       "      <td>2.0</td>\n",
       "      <td>2.0</td>\n",
       "      <td>1461.0</td>\n",
       "      <td>123.0</td>\n",
       "    </tr>\n",
       "    <tr>\n",
       "      <th>9</th>\n",
       "      <td>Baltimore</td>\n",
       "      <td>215000.0</td>\n",
       "      <td>3.0</td>\n",
       "      <td>2.0</td>\n",
       "      <td>1728.0</td>\n",
       "      <td>124.0</td>\n",
       "    </tr>\n",
       "    <tr>\n",
       "      <th>10</th>\n",
       "      <td>Baltimore</td>\n",
       "      <td>190000.0</td>\n",
       "      <td>3.0</td>\n",
       "      <td>2.0</td>\n",
       "      <td>1575.0</td>\n",
       "      <td>121.0</td>\n",
       "    </tr>\n",
       "    <tr>\n",
       "      <th>11</th>\n",
       "      <td>Baltimore</td>\n",
       "      <td>145000.0</td>\n",
       "      <td>1.0</td>\n",
       "      <td>1.0</td>\n",
       "      <td>924.0</td>\n",
       "      <td>157.0</td>\n",
       "    </tr>\n",
       "  </tbody>\n",
       "</table>\n",
       "</div>"
      ],
      "text/plain": [
       "         CITY     PRICE  BEDS  BATHS    SQFT  PRICE_SQFT\n",
       "2   Baltimore  150000.0   2.0    1.5  1152.0       130.0\n",
       "8   Baltimore  180000.0   2.0    2.0  1461.0       123.0\n",
       "9   Baltimore  215000.0   3.0    2.0  1728.0       124.0\n",
       "10  Baltimore  190000.0   3.0    2.0  1575.0       121.0\n",
       "11  Baltimore  145000.0   1.0    1.0   924.0       157.0"
      ]
     },
     "execution_count": 28,
     "metadata": {},
     "output_type": "execute_result"
    }
   ],
   "source": [
    "df7.rename(columns = {'PRICE/SQFT': 'PRICE_SQFT'}, inplace = True)\n",
    "df7.head()"
   ]
  },
  {
   "cell_type": "code",
   "execution_count": 29,
   "id": "9afd85cc-39f3-41f1-b435-83fe93193c2b",
   "metadata": {
    "tags": []
   },
   "outputs": [
    {
     "data": {
      "text/plain": [
       "count    7070.000000\n",
       "mean      380.019236\n",
       "std       374.727421\n",
       "min         0.000000\n",
       "25%       162.000000\n",
       "50%       247.000000\n",
       "75%       484.000000\n",
       "max      5026.000000\n",
       "Name: PRICE_SQFT, dtype: float64"
      ]
     },
     "execution_count": 29,
     "metadata": {},
     "output_type": "execute_result"
    }
   ],
   "source": [
    "df7.PRICE_SQFT.describe()"
   ]
  },
  {
   "cell_type": "code",
   "execution_count": 30,
   "id": "6f0195a8-8e64-4b08-9e5b-75081959e716",
   "metadata": {
    "tags": []
   },
   "outputs": [
    {
     "data": {
      "text/plain": [
       "(5569, 6)"
      ]
     },
     "execution_count": 30,
     "metadata": {},
     "output_type": "execute_result"
    }
   ],
   "source": [
    "def remove_outliers(df):\n",
    "    df_outliers = pd.DataFrame()\n",
    "    for key, value in df.groupby('CITY'):\n",
    "        mean_avg = np.mean(value.PRICE_SQFT)\n",
    "        stdev = np.std(value.PRICE_SQFT)\n",
    "        reduced_df = value[(value.PRICE_SQFT>(mean_avg-stdev)) & (value.PRICE_SQFT<=(mean_avg+stdev))]\n",
    "        df_outliers = pd.concat([df_outliers,reduced_df],ignore_index=True)\n",
    "    return df_outliers\n",
    "df8 = remove_outliers(df7)\n",
    "df8.shape"
   ]
  },
  {
   "cell_type": "code",
   "execution_count": 31,
   "id": "a8492795-84fe-4f63-ace1-51e8264ab3f8",
   "metadata": {
    "tags": []
   },
   "outputs": [
    {
     "data": {
      "image/png": "[encoded data removed]",
      "text/plain": [
       "<Figure size 1000x500 with 1 Axes>"
      ]
     },
     "metadata": {},
     "output_type": "display_data"
    }
   ],
   "source": [
    "def plot_scatter_chart(df,CITY):\n",
    "    beds2 = df[(df.CITY==CITY) & (df.BEDS==2)]\n",
    "    beds3 = df[(df.CITY==CITY) & (df.BEDS==3)]\n",
    "    matplotlib.rcParams['figure.figsize'] = (10,5)\n",
    "    plt.scatter(beds2.SQFT,beds2.PRICE,marker='o', color='#FF4433',label='2 BEDROOMS', s=50)    \n",
    "    plt.scatter(beds3.SQFT,beds3.PRICE,marker='*', color='#1D428A',label='3 BEDROOMS', s=50)\n",
    "    plt.xlabel(\"TOTAL AREA IN SQFT\")\n",
    "    plt.ylabel(\"PRICE (AMERICAN DOLARS)\")\n",
    "    plt.title(CITY)\n",
    "    plt.legend()\n",
    "    \n",
    "plot_scatter_chart(df8,\"San Jose\")"
   ]
  },
  {
   "cell_type": "code",
   "execution_count": 32,
   "id": "3431e970-7b80-465d-9faa-529457fbb969",
   "metadata": {
    "tags": []
   },
   "outputs": [
    {
     "data": {
      "image/png": "[encoded data removed]",
      "text/plain": [
       "<Figure size 1000x500 with 1 Axes>"
      ]
     },
     "metadata": {},
     "output_type": "display_data"
    }
   ],
   "source": [
    "plot_scatter_chart(df8,\"Vancouver\")"
   ]
  },
  {
   "cell_type": "code",
   "execution_count": 33,
   "id": "957a46b8-bd0c-49bc-9649-fc07427debe4",
   "metadata": {
    "tags": []
   },
   "outputs": [
    {
     "data": {
      "text/plain": [
       "{'1': {'mean': 4000, 'std': 2000, 'count': 34},\n",
       " '2': {'mean': 4300, 'std': 2300, 'count': 22}}"
      ]
     },
     "execution_count": 33,
     "metadata": {},
     "output_type": "execute_result"
    }
   ],
   "source": [
    "{\n",
    "    '1' : {\n",
    "        'mean': 4000,\n",
    "        'std': 2000,\n",
    "        'count': 34\n",
    "    },\n",
    "    '2' : {\n",
    "        'mean': 4300,\n",
    "        'std': 2300,\n",
    "        'count': 22\n",
    "    },    \n",
    "}"
   ]
  },
  {
   "cell_type": "code",
   "execution_count": 34,
   "id": "c99992e0-8a8e-4739-a79a-b617e0b62097",
   "metadata": {
    "tags": []
   },
   "outputs": [
    {
     "data": {
      "text/plain": [
       "(2869, 6)"
      ]
     },
     "execution_count": 34,
     "metadata": {},
     "output_type": "execute_result"
    }
   ],
   "source": [
    "def remove_bedroom_outliers(df):\n",
    "    exclude = np.array([])\n",
    "    for city, cities in df.groupby('CITY'):\n",
    "        living_stats = {}\n",
    "        for bedroom, living in cities.groupby('BEDS'):\n",
    "            living_stats[bedroom] = {\n",
    "                'mean': np.mean(living.PRICE_SQFT),\n",
    "                'std': np.std(living.PRICE_SQFT),\n",
    "                'count': living.shape[0]\n",
    "            }\n",
    "        for bedroom, living in cities.groupby('BEDS'):\n",
    "            stats = living_stats.get(bedroom-1)\n",
    "            if stats and stats['count']>5:\n",
    "                exclude = np.append(exclude , living[living.PRICE_SQFT<(stats['mean'])].index.values)\n",
    "    return df.drop(exclude,axis='index')\n",
    "df9 = remove_bedroom_outliers(df8)\n",
    "df9.shape"
   ]
  },
  {
   "cell_type": "code",
   "execution_count": 35,
   "id": "b72c98e5-b0e8-4349-b717-20bf53c99735",
   "metadata": {
    "tags": []
   },
   "outputs": [
    {
     "data": {
      "image/png": "[encoded data removed]",
      "text/plain": [
       "<Figure size 1000x500 with 1 Axes>"
      ]
     },
     "metadata": {},
     "output_type": "display_data"
    }
   ],
   "source": [
    "plot_scatter_chart(df6,\"San Jose\")"
   ]
  },
  {
   "cell_type": "code",
   "execution_count": 36,
   "id": "77d1cfc3-0b74-48cb-9407-da857a45ce3b",
   "metadata": {
    "tags": []
   },
   "outputs": [
    {
     "data": {
      "image/png": "[encoded data removed]",
      "text/plain": [
       "<Figure size 1000x500 with 1 Axes>"
      ]
     },
     "metadata": {},
     "output_type": "display_data"
    }
   ],
   "source": [
    "plot_scatter_chart(df9,\"Vancouver\")"
   ]
  },
  {
   "cell_type": "code",
   "execution_count": 37,
   "id": "21e7c602-5e8b-4dd1-b66c-e7facc7c5350",
   "metadata": {
    "tags": []
   },
   "outputs": [
    {
     "data": {
      "text/plain": [
       "Text(0, 0.5, 'COUNT')"
      ]
     },
     "execution_count": 37,
     "metadata": {},
     "output_type": "execute_result"
    },
    {
     "data": {
      "image/png": "[encoded data removed]",
      "text/plain": [
       "<Figure size 1500x1000 with 1 Axes>"
      ]
     },
     "metadata": {},
     "output_type": "display_data"
    }
   ],
   "source": [
    "import matplotlib\n",
    "matplotlib.rcParams[\"figure.figsize\"] = (15,10)\n",
    "plt.hist(df9.PRICE_SQFT,color='#1D428A',rwidth=0.9, edgecolor='WHITE')\n",
    "plt.xlabel(\"PRICE FOR SQUARE FOOTAGE\")\n",
    "plt.ylabel(\"COUNT\")"
   ]
  },
  {
   "cell_type": "code",
   "execution_count": 38,
   "id": "45d9c440-d89a-4266-a6d0-398d8dd40a8d",
   "metadata": {
    "tags": []
   },
   "outputs": [
    {
     "data": {
      "text/html": [
       "<div>\n",
       "<style scoped>\n",
       "    .dataframe tbody tr th:only-of-type {\n",
       "        vertical-align: middle;\n",
       "    }\n",
       "\n",
       "    .dataframe tbody tr th {\n",
       "        vertical-align: top;\n",
       "    }\n",
       "\n",
       "    .dataframe thead th {\n",
       "        text-align: right;\n",
       "    }\n",
       "</style>\n",
       "<table border=\"1\" class=\"dataframe\">\n",
       "  <thead>\n",
       "    <tr style=\"text-align: right;\">\n",
       "      <th></th>\n",
       "      <th>CITY</th>\n",
       "      <th>PRICE</th>\n",
       "      <th>BEDS</th>\n",
       "      <th>BATHS</th>\n",
       "      <th>SQFT</th>\n",
       "      <th>PRICE_SQFT</th>\n",
       "    </tr>\n",
       "  </thead>\n",
       "  <tbody>\n",
       "    <tr>\n",
       "      <th>0</th>\n",
       "      <td>Antioch</td>\n",
       "      <td>369000.0</td>\n",
       "      <td>3.0</td>\n",
       "      <td>2.5</td>\n",
       "      <td>1720.0</td>\n",
       "      <td>215.0</td>\n",
       "    </tr>\n",
       "    <tr>\n",
       "      <th>1</th>\n",
       "      <td>Antioch</td>\n",
       "      <td>279900.0</td>\n",
       "      <td>2.0</td>\n",
       "      <td>2.5</td>\n",
       "      <td>1258.0</td>\n",
       "      <td>222.0</td>\n",
       "    </tr>\n",
       "    <tr>\n",
       "      <th>2</th>\n",
       "      <td>Antioch</td>\n",
       "      <td>379900.0</td>\n",
       "      <td>3.0</td>\n",
       "      <td>2.5</td>\n",
       "      <td>1666.0</td>\n",
       "      <td>228.0</td>\n",
       "    </tr>\n",
       "    <tr>\n",
       "      <th>3</th>\n",
       "      <td>Antioch</td>\n",
       "      <td>359900.0</td>\n",
       "      <td>3.0</td>\n",
       "      <td>2.5</td>\n",
       "      <td>1530.0</td>\n",
       "      <td>235.0</td>\n",
       "    </tr>\n",
       "    <tr>\n",
       "      <th>4</th>\n",
       "      <td>Antioch</td>\n",
       "      <td>525000.0</td>\n",
       "      <td>4.0</td>\n",
       "      <td>3.5</td>\n",
       "      <td>2523.0</td>\n",
       "      <td>208.0</td>\n",
       "    </tr>\n",
       "  </tbody>\n",
       "</table>\n",
       "</div>"
      ],
      "text/plain": [
       "      CITY     PRICE  BEDS  BATHS    SQFT  PRICE_SQFT\n",
       "0  Antioch  369000.0   3.0    2.5  1720.0       215.0\n",
       "1  Antioch  279900.0   2.0    2.5  1258.0       222.0\n",
       "2  Antioch  379900.0   3.0    2.5  1666.0       228.0\n",
       "3  Antioch  359900.0   3.0    2.5  1530.0       235.0\n",
       "4  Antioch  525000.0   4.0    3.5  2523.0       208.0"
      ]
     },
     "execution_count": 38,
     "metadata": {},
     "output_type": "execute_result"
    }
   ],
   "source": [
    "df9.head()"
   ]
  },
  {
   "cell_type": "code",
   "execution_count": 39,
   "id": "7e3442c8-45ce-479d-957c-2e55c070f60d",
   "metadata": {
    "tags": []
   },
   "outputs": [
    {
     "data": {
      "text/plain": [
       "(2869, 6)"
      ]
     },
     "execution_count": 39,
     "metadata": {},
     "output_type": "execute_result"
    }
   ],
   "source": [
    "df9.shape"
   ]
  },
  {
   "cell_type": "code",
   "execution_count": 40,
   "id": "12bc3b42-e928-44f2-a5d9-60df1fee74e1",
   "metadata": {
    "tags": []
   },
   "outputs": [
    {
     "data": {
      "text/plain": [
       "array([ 2.5 ,  3.5 ,  3.  ,  2.  ,  1.5 ,  1.  ,  4.5 ,  4.  ,  5.  ,\n",
       "        5.5 ,  6.  ,  7.  , 20.  ,  8.5 ,  8.  ,  6.5 ,  1.75, 13.5 ,\n",
       "        0.5 ])"
      ]
     },
     "execution_count": 40,
     "metadata": {},
     "output_type": "execute_result"
    }
   ],
   "source": [
    "df9.BATHS.unique()"
   ]
  },
  {
   "cell_type": "code",
   "execution_count": 41,
   "id": "ded07790-0658-473f-8c31-67a5fb69d7ee",
   "metadata": {
    "tags": []
   },
   "outputs": [
    {
     "data": {
      "text/html": [
       "<div>\n",
       "<style scoped>\n",
       "    .dataframe tbody tr th:only-of-type {\n",
       "        vertical-align: middle;\n",
       "    }\n",
       "\n",
       "    .dataframe tbody tr th {\n",
       "        vertical-align: top;\n",
       "    }\n",
       "\n",
       "    .dataframe thead th {\n",
       "        text-align: right;\n",
       "    }\n",
       "</style>\n",
       "<table border=\"1\" class=\"dataframe\">\n",
       "  <thead>\n",
       "    <tr style=\"text-align: right;\">\n",
       "      <th></th>\n",
       "      <th>CITY</th>\n",
       "      <th>PRICE</th>\n",
       "      <th>BEDS</th>\n",
       "      <th>BATHS</th>\n",
       "      <th>SQFT</th>\n",
       "      <th>PRICE_SQFT</th>\n",
       "    </tr>\n",
       "  </thead>\n",
       "  <tbody>\n",
       "    <tr>\n",
       "      <th>0</th>\n",
       "      <td>Antioch</td>\n",
       "      <td>369000.0</td>\n",
       "      <td>3.0</td>\n",
       "      <td>2</td>\n",
       "      <td>1720.0</td>\n",
       "      <td>215.0</td>\n",
       "    </tr>\n",
       "    <tr>\n",
       "      <th>1</th>\n",
       "      <td>Antioch</td>\n",
       "      <td>279900.0</td>\n",
       "      <td>2.0</td>\n",
       "      <td>2</td>\n",
       "      <td>1258.0</td>\n",
       "      <td>222.0</td>\n",
       "    </tr>\n",
       "    <tr>\n",
       "      <th>2</th>\n",
       "      <td>Antioch</td>\n",
       "      <td>379900.0</td>\n",
       "      <td>3.0</td>\n",
       "      <td>2</td>\n",
       "      <td>1666.0</td>\n",
       "      <td>228.0</td>\n",
       "    </tr>\n",
       "    <tr>\n",
       "      <th>3</th>\n",
       "      <td>Antioch</td>\n",
       "      <td>359900.0</td>\n",
       "      <td>3.0</td>\n",
       "      <td>2</td>\n",
       "      <td>1530.0</td>\n",
       "      <td>235.0</td>\n",
       "    </tr>\n",
       "    <tr>\n",
       "      <th>4</th>\n",
       "      <td>Antioch</td>\n",
       "      <td>525000.0</td>\n",
       "      <td>4.0</td>\n",
       "      <td>3</td>\n",
       "      <td>2523.0</td>\n",
       "      <td>208.0</td>\n",
       "    </tr>\n",
       "  </tbody>\n",
       "</table>\n",
       "</div>"
      ],
      "text/plain": [
       "      CITY     PRICE  BEDS  BATHS    SQFT  PRICE_SQFT\n",
       "0  Antioch  369000.0   3.0      2  1720.0       215.0\n",
       "1  Antioch  279900.0   2.0      2  1258.0       222.0\n",
       "2  Antioch  379900.0   3.0      2  1666.0       228.0\n",
       "3  Antioch  359900.0   3.0      2  1530.0       235.0\n",
       "4  Antioch  525000.0   4.0      3  2523.0       208.0"
      ]
     },
     "execution_count": 41,
     "metadata": {},
     "output_type": "execute_result"
    }
   ],
   "source": [
    "df9['BATHS'] = df9['BATHS'].astype(int)\n",
    "df9.head()"
   ]
  },
  {
   "cell_type": "code",
   "execution_count": 42,
   "id": "5f722780-b699-4e9f-852f-ce51b3fe63d8",
   "metadata": {
    "tags": []
   },
   "outputs": [
    {
     "data": {
      "text/plain": [
       "Text(0, 0.5, 'COUNT')"
      ]
     },
     "execution_count": 42,
     "metadata": {},
     "output_type": "execute_result"
    },
    {
     "data": {
      "image/png": "[encoded data removed]",
      "text/plain": [
       "<Figure size 1500x1000 with 1 Axes>"
      ]
     },
     "metadata": {},
     "output_type": "display_data"
    }
   ],
   "source": [
    "plt.hist(df9.BATHS,color='#1D428A',rwidth=0.9, edgecolor='WHITE')\n",
    "plt.xlabel(\"NUMBER OF BATHROOMS\")\n",
    "plt.ylabel(\"COUNT\")"
   ]
  },
  {
   "cell_type": "code",
   "execution_count": 43,
   "id": "9d3f968c-57f5-4039-a5d0-7d36e4cf2b76",
   "metadata": {
    "tags": []
   },
   "outputs": [
    {
     "data": {
      "text/html": [
       "<div>\n",
       "<style scoped>\n",
       "    .dataframe tbody tr th:only-of-type {\n",
       "        vertical-align: middle;\n",
       "    }\n",
       "\n",
       "    .dataframe tbody tr th {\n",
       "        vertical-align: top;\n",
       "    }\n",
       "\n",
       "    .dataframe thead th {\n",
       "        text-align: right;\n",
       "    }\n",
       "</style>\n",
       "<table border=\"1\" class=\"dataframe\">\n",
       "  <thead>\n",
       "    <tr style=\"text-align: right;\">\n",
       "      <th></th>\n",
       "      <th>CITY</th>\n",
       "      <th>PRICE</th>\n",
       "      <th>BEDS</th>\n",
       "      <th>BATHS</th>\n",
       "      <th>SQFT</th>\n",
       "      <th>PRICE_SQFT</th>\n",
       "    </tr>\n",
       "  </thead>\n",
       "  <tbody>\n",
       "    <tr>\n",
       "      <th>2334</th>\n",
       "      <td>Jacksonville</td>\n",
       "      <td>339900.0</td>\n",
       "      <td>4.0</td>\n",
       "      <td>20</td>\n",
       "      <td>1652.0</td>\n",
       "      <td>206.0</td>\n",
       "    </tr>\n",
       "    <tr>\n",
       "      <th>4799</th>\n",
       "      <td>Washington</td>\n",
       "      <td>3650000.0</td>\n",
       "      <td>12.0</td>\n",
       "      <td>13</td>\n",
       "      <td>7098.0</td>\n",
       "      <td>514.0</td>\n",
       "    </tr>\n",
       "  </tbody>\n",
       "</table>\n",
       "</div>"
      ],
      "text/plain": [
       "              CITY      PRICE  BEDS  BATHS    SQFT  PRICE_SQFT\n",
       "2334  Jacksonville   339900.0   4.0     20  1652.0       206.0\n",
       "4799    Washington  3650000.0  12.0     13  7098.0       514.0"
      ]
     },
     "execution_count": 43,
     "metadata": {},
     "output_type": "execute_result"
    }
   ],
   "source": [
    "df9[df9.BATHS>10]"
   ]
  },
  {
   "cell_type": "code",
   "execution_count": 44,
   "id": "5698fd44-3a11-4cb4-b66e-b0958da79b1a",
   "metadata": {
    "tags": []
   },
   "outputs": [
    {
     "data": {
      "text/html": [
       "<div>\n",
       "<style scoped>\n",
       "    .dataframe tbody tr th:only-of-type {\n",
       "        vertical-align: middle;\n",
       "    }\n",
       "\n",
       "    .dataframe tbody tr th {\n",
       "        vertical-align: top;\n",
       "    }\n",
       "\n",
       "    .dataframe thead th {\n",
       "        text-align: right;\n",
       "    }\n",
       "</style>\n",
       "<table border=\"1\" class=\"dataframe\">\n",
       "  <thead>\n",
       "    <tr style=\"text-align: right;\">\n",
       "      <th></th>\n",
       "      <th>CITY</th>\n",
       "      <th>PRICE</th>\n",
       "      <th>BEDS</th>\n",
       "      <th>BATHS</th>\n",
       "      <th>SQFT</th>\n",
       "      <th>PRICE_SQFT</th>\n",
       "    </tr>\n",
       "  </thead>\n",
       "  <tbody>\n",
       "    <tr>\n",
       "      <th>1042</th>\n",
       "      <td>Cleveland</td>\n",
       "      <td>244900.0</td>\n",
       "      <td>0.0</td>\n",
       "      <td>4</td>\n",
       "      <td>2016.0</td>\n",
       "      <td>121.0</td>\n",
       "    </tr>\n",
       "    <tr>\n",
       "      <th>2334</th>\n",
       "      <td>Jacksonville</td>\n",
       "      <td>339900.0</td>\n",
       "      <td>4.0</td>\n",
       "      <td>20</td>\n",
       "      <td>1652.0</td>\n",
       "      <td>206.0</td>\n",
       "    </tr>\n",
       "  </tbody>\n",
       "</table>\n",
       "</div>"
      ],
      "text/plain": [
       "              CITY     PRICE  BEDS  BATHS    SQFT  PRICE_SQFT\n",
       "1042     Cleveland  244900.0   0.0      4  2016.0       121.0\n",
       "2334  Jacksonville  339900.0   4.0     20  1652.0       206.0"
      ]
     },
     "execution_count": 44,
     "metadata": {},
     "output_type": "execute_result"
    }
   ],
   "source": [
    "df9[df9.BATHS>df9.BEDS+2]"
   ]
  },
  {
   "cell_type": "code",
   "execution_count": 45,
   "id": "e984b97d-dfd2-470b-abb3-1b28c292d1e3",
   "metadata": {
    "tags": []
   },
   "outputs": [
    {
     "data": {
      "text/plain": [
       "(2864, 6)"
      ]
     },
     "execution_count": 45,
     "metadata": {},
     "output_type": "execute_result"
    }
   ],
   "source": [
    "df10 = df9[df9.BATHS<df9.BEDS+2]\n",
    "df10.shape"
   ]
  },
  {
   "cell_type": "code",
   "execution_count": 46,
   "id": "fc6c17eb-a802-4eb1-bbdb-652da1deba26",
   "metadata": {
    "tags": []
   },
   "outputs": [
    {
     "data": {
      "text/html": [
       "<div>\n",
       "<style scoped>\n",
       "    .dataframe tbody tr th:only-of-type {\n",
       "        vertical-align: middle;\n",
       "    }\n",
       "\n",
       "    .dataframe tbody tr th {\n",
       "        vertical-align: top;\n",
       "    }\n",
       "\n",
       "    .dataframe thead th {\n",
       "        text-align: right;\n",
       "    }\n",
       "</style>\n",
       "<table border=\"1\" class=\"dataframe\">\n",
       "  <thead>\n",
       "    <tr style=\"text-align: right;\">\n",
       "      <th></th>\n",
       "      <th>CITY</th>\n",
       "      <th>PRICE</th>\n",
       "      <th>BEDS</th>\n",
       "      <th>BATHS</th>\n",
       "      <th>SQFT</th>\n",
       "      <th>PRICE_SQFT</th>\n",
       "    </tr>\n",
       "  </thead>\n",
       "  <tbody>\n",
       "    <tr>\n",
       "      <th>0</th>\n",
       "      <td>Antioch</td>\n",
       "      <td>369000.0</td>\n",
       "      <td>3.0</td>\n",
       "      <td>2</td>\n",
       "      <td>1720.0</td>\n",
       "      <td>215.0</td>\n",
       "    </tr>\n",
       "    <tr>\n",
       "      <th>1</th>\n",
       "      <td>Antioch</td>\n",
       "      <td>279900.0</td>\n",
       "      <td>2.0</td>\n",
       "      <td>2</td>\n",
       "      <td>1258.0</td>\n",
       "      <td>222.0</td>\n",
       "    </tr>\n",
       "  </tbody>\n",
       "</table>\n",
       "</div>"
      ],
      "text/plain": [
       "      CITY     PRICE  BEDS  BATHS    SQFT  PRICE_SQFT\n",
       "0  Antioch  369000.0   3.0      2  1720.0       215.0\n",
       "1  Antioch  279900.0   2.0      2  1258.0       222.0"
      ]
     },
     "execution_count": 46,
     "metadata": {},
     "output_type": "execute_result"
    }
   ],
   "source": [
    "df10.head(2)"
   ]
  },
  {
   "cell_type": "code",
   "execution_count": 47,
   "id": "62eb5944-292c-4041-88cc-13dc9d408622",
   "metadata": {
    "tags": []
   },
   "outputs": [
    {
     "data": {
      "text/html": [
       "<div>\n",
       "<style scoped>\n",
       "    .dataframe tbody tr th:only-of-type {\n",
       "        vertical-align: middle;\n",
       "    }\n",
       "\n",
       "    .dataframe tbody tr th {\n",
       "        vertical-align: top;\n",
       "    }\n",
       "\n",
       "    .dataframe thead th {\n",
       "        text-align: right;\n",
       "    }\n",
       "</style>\n",
       "<table border=\"1\" class=\"dataframe\">\n",
       "  <thead>\n",
       "    <tr style=\"text-align: right;\">\n",
       "      <th></th>\n",
       "      <th>Antioch</th>\n",
       "      <th>Baltimore</th>\n",
       "      <th>Boston</th>\n",
       "      <th>Brooklyn</th>\n",
       "      <th>Charlotte</th>\n",
       "      <th>Chicago</th>\n",
       "      <th>Cleveland</th>\n",
       "      <th>Columbus</th>\n",
       "      <th>Dallas</th>\n",
       "      <th>Detroit</th>\n",
       "      <th>...</th>\n",
       "      <th>San Francisco</th>\n",
       "      <th>San Jose</th>\n",
       "      <th>Scottsdale</th>\n",
       "      <th>Seattle</th>\n",
       "      <th>Stallings</th>\n",
       "      <th>Staten Island</th>\n",
       "      <th>Vancouver</th>\n",
       "      <th>Washington</th>\n",
       "      <th>Yukon</th>\n",
       "      <th>other</th>\n",
       "    </tr>\n",
       "  </thead>\n",
       "  <tbody>\n",
       "    <tr>\n",
       "      <th>0</th>\n",
       "      <td>1</td>\n",
       "      <td>0</td>\n",
       "      <td>0</td>\n",
       "      <td>0</td>\n",
       "      <td>0</td>\n",
       "      <td>0</td>\n",
       "      <td>0</td>\n",
       "      <td>0</td>\n",
       "      <td>0</td>\n",
       "      <td>0</td>\n",
       "      <td>...</td>\n",
       "      <td>0</td>\n",
       "      <td>0</td>\n",
       "      <td>0</td>\n",
       "      <td>0</td>\n",
       "      <td>0</td>\n",
       "      <td>0</td>\n",
       "      <td>0</td>\n",
       "      <td>0</td>\n",
       "      <td>0</td>\n",
       "      <td>0</td>\n",
       "    </tr>\n",
       "    <tr>\n",
       "      <th>1</th>\n",
       "      <td>1</td>\n",
       "      <td>0</td>\n",
       "      <td>0</td>\n",
       "      <td>0</td>\n",
       "      <td>0</td>\n",
       "      <td>0</td>\n",
       "      <td>0</td>\n",
       "      <td>0</td>\n",
       "      <td>0</td>\n",
       "      <td>0</td>\n",
       "      <td>...</td>\n",
       "      <td>0</td>\n",
       "      <td>0</td>\n",
       "      <td>0</td>\n",
       "      <td>0</td>\n",
       "      <td>0</td>\n",
       "      <td>0</td>\n",
       "      <td>0</td>\n",
       "      <td>0</td>\n",
       "      <td>0</td>\n",
       "      <td>0</td>\n",
       "    </tr>\n",
       "    <tr>\n",
       "      <th>2</th>\n",
       "      <td>1</td>\n",
       "      <td>0</td>\n",
       "      <td>0</td>\n",
       "      <td>0</td>\n",
       "      <td>0</td>\n",
       "      <td>0</td>\n",
       "      <td>0</td>\n",
       "      <td>0</td>\n",
       "      <td>0</td>\n",
       "      <td>0</td>\n",
       "      <td>...</td>\n",
       "      <td>0</td>\n",
       "      <td>0</td>\n",
       "      <td>0</td>\n",
       "      <td>0</td>\n",
       "      <td>0</td>\n",
       "      <td>0</td>\n",
       "      <td>0</td>\n",
       "      <td>0</td>\n",
       "      <td>0</td>\n",
       "      <td>0</td>\n",
       "    </tr>\n",
       "  </tbody>\n",
       "</table>\n",
       "<p>3 rows × 42 columns</p>\n",
       "</div>"
      ],
      "text/plain": [
       "   Antioch  Baltimore  Boston  Brooklyn  Charlotte  Chicago  Cleveland  \\\n",
       "0        1          0       0         0          0        0          0   \n",
       "1        1          0       0         0          0        0          0   \n",
       "2        1          0       0         0          0        0          0   \n",
       "\n",
       "   Columbus  Dallas  Detroit  ...  San Francisco  San Jose  Scottsdale  \\\n",
       "0         0       0        0  ...              0         0           0   \n",
       "1         0       0        0  ...              0         0           0   \n",
       "2         0       0        0  ...              0         0           0   \n",
       "\n",
       "   Seattle  Stallings  Staten Island  Vancouver  Washington  Yukon  other  \n",
       "0        0          0              0          0           0      0      0  \n",
       "1        0          0              0          0           0      0      0  \n",
       "2        0          0              0          0           0      0      0  \n",
       "\n",
       "[3 rows x 42 columns]"
      ]
     },
     "execution_count": 47,
     "metadata": {},
     "output_type": "execute_result"
    }
   ],
   "source": [
    "encoding = pd.get_dummies(df10.CITY)\n",
    "encoding.head(3)"
   ]
  },
  {
   "cell_type": "code",
   "execution_count": 48,
   "id": "11c7d8ac-7cd7-47f4-9ecb-c552be490675",
   "metadata": {
    "tags": []
   },
   "outputs": [
    {
     "data": {
      "text/html": [
       "<div>\n",
       "<style scoped>\n",
       "    .dataframe tbody tr th:only-of-type {\n",
       "        vertical-align: middle;\n",
       "    }\n",
       "\n",
       "    .dataframe tbody tr th {\n",
       "        vertical-align: top;\n",
       "    }\n",
       "\n",
       "    .dataframe thead th {\n",
       "        text-align: right;\n",
       "    }\n",
       "</style>\n",
       "<table border=\"1\" class=\"dataframe\">\n",
       "  <thead>\n",
       "    <tr style=\"text-align: right;\">\n",
       "      <th></th>\n",
       "      <th>CITY</th>\n",
       "      <th>PRICE</th>\n",
       "      <th>BEDS</th>\n",
       "      <th>BATHS</th>\n",
       "      <th>SQFT</th>\n",
       "      <th>PRICE_SQFT</th>\n",
       "      <th>Antioch</th>\n",
       "      <th>Baltimore</th>\n",
       "      <th>Boston</th>\n",
       "      <th>Brooklyn</th>\n",
       "      <th>...</th>\n",
       "      <th>San Diego</th>\n",
       "      <th>San Francisco</th>\n",
       "      <th>San Jose</th>\n",
       "      <th>Scottsdale</th>\n",
       "      <th>Seattle</th>\n",
       "      <th>Stallings</th>\n",
       "      <th>Staten Island</th>\n",
       "      <th>Vancouver</th>\n",
       "      <th>Washington</th>\n",
       "      <th>Yukon</th>\n",
       "    </tr>\n",
       "  </thead>\n",
       "  <tbody>\n",
       "    <tr>\n",
       "      <th>0</th>\n",
       "      <td>Antioch</td>\n",
       "      <td>369000.0</td>\n",
       "      <td>3.0</td>\n",
       "      <td>2</td>\n",
       "      <td>1720.0</td>\n",
       "      <td>215.0</td>\n",
       "      <td>1</td>\n",
       "      <td>0</td>\n",
       "      <td>0</td>\n",
       "      <td>0</td>\n",
       "      <td>...</td>\n",
       "      <td>0</td>\n",
       "      <td>0</td>\n",
       "      <td>0</td>\n",
       "      <td>0</td>\n",
       "      <td>0</td>\n",
       "      <td>0</td>\n",
       "      <td>0</td>\n",
       "      <td>0</td>\n",
       "      <td>0</td>\n",
       "      <td>0</td>\n",
       "    </tr>\n",
       "    <tr>\n",
       "      <th>1</th>\n",
       "      <td>Antioch</td>\n",
       "      <td>279900.0</td>\n",
       "      <td>2.0</td>\n",
       "      <td>2</td>\n",
       "      <td>1258.0</td>\n",
       "      <td>222.0</td>\n",
       "      <td>1</td>\n",
       "      <td>0</td>\n",
       "      <td>0</td>\n",
       "      <td>0</td>\n",
       "      <td>...</td>\n",
       "      <td>0</td>\n",
       "      <td>0</td>\n",
       "      <td>0</td>\n",
       "      <td>0</td>\n",
       "      <td>0</td>\n",
       "      <td>0</td>\n",
       "      <td>0</td>\n",
       "      <td>0</td>\n",
       "      <td>0</td>\n",
       "      <td>0</td>\n",
       "    </tr>\n",
       "    <tr>\n",
       "      <th>2</th>\n",
       "      <td>Antioch</td>\n",
       "      <td>379900.0</td>\n",
       "      <td>3.0</td>\n",
       "      <td>2</td>\n",
       "      <td>1666.0</td>\n",
       "      <td>228.0</td>\n",
       "      <td>1</td>\n",
       "      <td>0</td>\n",
       "      <td>0</td>\n",
       "      <td>0</td>\n",
       "      <td>...</td>\n",
       "      <td>0</td>\n",
       "      <td>0</td>\n",
       "      <td>0</td>\n",
       "      <td>0</td>\n",
       "      <td>0</td>\n",
       "      <td>0</td>\n",
       "      <td>0</td>\n",
       "      <td>0</td>\n",
       "      <td>0</td>\n",
       "      <td>0</td>\n",
       "    </tr>\n",
       "    <tr>\n",
       "      <th>3</th>\n",
       "      <td>Antioch</td>\n",
       "      <td>359900.0</td>\n",
       "      <td>3.0</td>\n",
       "      <td>2</td>\n",
       "      <td>1530.0</td>\n",
       "      <td>235.0</td>\n",
       "      <td>1</td>\n",
       "      <td>0</td>\n",
       "      <td>0</td>\n",
       "      <td>0</td>\n",
       "      <td>...</td>\n",
       "      <td>0</td>\n",
       "      <td>0</td>\n",
       "      <td>0</td>\n",
       "      <td>0</td>\n",
       "      <td>0</td>\n",
       "      <td>0</td>\n",
       "      <td>0</td>\n",
       "      <td>0</td>\n",
       "      <td>0</td>\n",
       "      <td>0</td>\n",
       "    </tr>\n",
       "    <tr>\n",
       "      <th>4</th>\n",
       "      <td>Antioch</td>\n",
       "      <td>525000.0</td>\n",
       "      <td>4.0</td>\n",
       "      <td>3</td>\n",
       "      <td>2523.0</td>\n",
       "      <td>208.0</td>\n",
       "      <td>1</td>\n",
       "      <td>0</td>\n",
       "      <td>0</td>\n",
       "      <td>0</td>\n",
       "      <td>...</td>\n",
       "      <td>0</td>\n",
       "      <td>0</td>\n",
       "      <td>0</td>\n",
       "      <td>0</td>\n",
       "      <td>0</td>\n",
       "      <td>0</td>\n",
       "      <td>0</td>\n",
       "      <td>0</td>\n",
       "      <td>0</td>\n",
       "      <td>0</td>\n",
       "    </tr>\n",
       "  </tbody>\n",
       "</table>\n",
       "<p>5 rows × 47 columns</p>\n",
       "</div>"
      ],
      "text/plain": [
       "      CITY     PRICE  BEDS  BATHS    SQFT  PRICE_SQFT  Antioch  Baltimore  \\\n",
       "0  Antioch  369000.0   3.0      2  1720.0       215.0        1          0   \n",
       "1  Antioch  279900.0   2.0      2  1258.0       222.0        1          0   \n",
       "2  Antioch  379900.0   3.0      2  1666.0       228.0        1          0   \n",
       "3  Antioch  359900.0   3.0      2  1530.0       235.0        1          0   \n",
       "4  Antioch  525000.0   4.0      3  2523.0       208.0        1          0   \n",
       "\n",
       "   Boston  Brooklyn  ...  San Diego  San Francisco  San Jose  Scottsdale  \\\n",
       "0       0         0  ...          0              0         0           0   \n",
       "1       0         0  ...          0              0         0           0   \n",
       "2       0         0  ...          0              0         0           0   \n",
       "3       0         0  ...          0              0         0           0   \n",
       "4       0         0  ...          0              0         0           0   \n",
       "\n",
       "   Seattle  Stallings  Staten Island  Vancouver  Washington  Yukon  \n",
       "0        0          0              0          0           0      0  \n",
       "1        0          0              0          0           0      0  \n",
       "2        0          0              0          0           0      0  \n",
       "3        0          0              0          0           0      0  \n",
       "4        0          0              0          0           0      0  \n",
       "\n",
       "[5 rows x 47 columns]"
      ]
     },
     "execution_count": 48,
     "metadata": {},
     "output_type": "execute_result"
    }
   ],
   "source": [
    "df11 = pd.concat([df10,encoding.drop('other',axis='columns')],axis='columns')\n",
    "df11.head()"
   ]
  },
  {
   "cell_type": "code",
   "execution_count": 49,
   "id": "10eb6e1f-ed37-45d3-acff-e11e730e6115",
   "metadata": {
    "tags": []
   },
   "outputs": [
    {
     "data": {
      "text/html": [
       "<div>\n",
       "<style scoped>\n",
       "    .dataframe tbody tr th:only-of-type {\n",
       "        vertical-align: middle;\n",
       "    }\n",
       "\n",
       "    .dataframe tbody tr th {\n",
       "        vertical-align: top;\n",
       "    }\n",
       "\n",
       "    .dataframe thead th {\n",
       "        text-align: right;\n",
       "    }\n",
       "</style>\n",
       "<table border=\"1\" class=\"dataframe\">\n",
       "  <thead>\n",
       "    <tr style=\"text-align: right;\">\n",
       "      <th></th>\n",
       "      <th>PRICE</th>\n",
       "      <th>BEDS</th>\n",
       "      <th>BATHS</th>\n",
       "      <th>SQFT</th>\n",
       "      <th>PRICE_SQFT</th>\n",
       "      <th>Antioch</th>\n",
       "      <th>Baltimore</th>\n",
       "      <th>Boston</th>\n",
       "      <th>Brooklyn</th>\n",
       "      <th>Charlotte</th>\n",
       "      <th>...</th>\n",
       "      <th>San Diego</th>\n",
       "      <th>San Francisco</th>\n",
       "      <th>San Jose</th>\n",
       "      <th>Scottsdale</th>\n",
       "      <th>Seattle</th>\n",
       "      <th>Stallings</th>\n",
       "      <th>Staten Island</th>\n",
       "      <th>Vancouver</th>\n",
       "      <th>Washington</th>\n",
       "      <th>Yukon</th>\n",
       "    </tr>\n",
       "  </thead>\n",
       "  <tbody>\n",
       "    <tr>\n",
       "      <th>0</th>\n",
       "      <td>369000.0</td>\n",
       "      <td>3.0</td>\n",
       "      <td>2</td>\n",
       "      <td>1720.0</td>\n",
       "      <td>215.0</td>\n",
       "      <td>1</td>\n",
       "      <td>0</td>\n",
       "      <td>0</td>\n",
       "      <td>0</td>\n",
       "      <td>0</td>\n",
       "      <td>...</td>\n",
       "      <td>0</td>\n",
       "      <td>0</td>\n",
       "      <td>0</td>\n",
       "      <td>0</td>\n",
       "      <td>0</td>\n",
       "      <td>0</td>\n",
       "      <td>0</td>\n",
       "      <td>0</td>\n",
       "      <td>0</td>\n",
       "      <td>0</td>\n",
       "    </tr>\n",
       "    <tr>\n",
       "      <th>1</th>\n",
       "      <td>279900.0</td>\n",
       "      <td>2.0</td>\n",
       "      <td>2</td>\n",
       "      <td>1258.0</td>\n",
       "      <td>222.0</td>\n",
       "      <td>1</td>\n",
       "      <td>0</td>\n",
       "      <td>0</td>\n",
       "      <td>0</td>\n",
       "      <td>0</td>\n",
       "      <td>...</td>\n",
       "      <td>0</td>\n",
       "      <td>0</td>\n",
       "      <td>0</td>\n",
       "      <td>0</td>\n",
       "      <td>0</td>\n",
       "      <td>0</td>\n",
       "      <td>0</td>\n",
       "      <td>0</td>\n",
       "      <td>0</td>\n",
       "      <td>0</td>\n",
       "    </tr>\n",
       "  </tbody>\n",
       "</table>\n",
       "<p>2 rows × 46 columns</p>\n",
       "</div>"
      ],
      "text/plain": [
       "      PRICE  BEDS  BATHS    SQFT  PRICE_SQFT  Antioch  Baltimore  Boston  \\\n",
       "0  369000.0   3.0      2  1720.0       215.0        1          0       0   \n",
       "1  279900.0   2.0      2  1258.0       222.0        1          0       0   \n",
       "\n",
       "   Brooklyn  Charlotte  ...  San Diego  San Francisco  San Jose  Scottsdale  \\\n",
       "0         0          0  ...          0              0         0           0   \n",
       "1         0          0  ...          0              0         0           0   \n",
       "\n",
       "   Seattle  Stallings  Staten Island  Vancouver  Washington  Yukon  \n",
       "0        0          0              0          0           0      0  \n",
       "1        0          0              0          0           0      0  \n",
       "\n",
       "[2 rows x 46 columns]"
      ]
     },
     "execution_count": 49,
     "metadata": {},
     "output_type": "execute_result"
    }
   ],
   "source": [
    "df12 = df11.drop('CITY',axis='columns')\n",
    "df12.head(2)"
   ]
  },
  {
   "cell_type": "code",
   "execution_count": 50,
   "id": "66e8d9e7-a1e9-4ea6-8ce6-0b0d1e925317",
   "metadata": {
    "tags": []
   },
   "outputs": [
    {
     "data": {
      "text/plain": [
       "(2864, 45)"
      ]
     },
     "execution_count": 50,
     "metadata": {},
     "output_type": "execute_result"
    }
   ],
   "source": [
    "df13 = df12.drop(['PRICE_SQFT'],axis='columns')\n",
    "df13.head(3)\n",
    "df13.shape"
   ]
  },
  {
   "cell_type": "code",
   "execution_count": 51,
   "id": "49d93708-3193-48f2-853e-7a15acbdbc6d",
   "metadata": {
    "tags": []
   },
   "outputs": [
    {
     "data": {
      "text/html": [
       "<div>\n",
       "<style scoped>\n",
       "    .dataframe tbody tr th:only-of-type {\n",
       "        vertical-align: middle;\n",
       "    }\n",
       "\n",
       "    .dataframe tbody tr th {\n",
       "        vertical-align: top;\n",
       "    }\n",
       "\n",
       "    .dataframe thead th {\n",
       "        text-align: right;\n",
       "    }\n",
       "</style>\n",
       "<table border=\"1\" class=\"dataframe\">\n",
       "  <thead>\n",
       "    <tr style=\"text-align: right;\">\n",
       "      <th></th>\n",
       "      <th>BEDS</th>\n",
       "      <th>BATHS</th>\n",
       "      <th>SQFT</th>\n",
       "      <th>Antioch</th>\n",
       "      <th>Baltimore</th>\n",
       "      <th>Boston</th>\n",
       "      <th>Brooklyn</th>\n",
       "      <th>Charlotte</th>\n",
       "      <th>Chicago</th>\n",
       "      <th>Cleveland</th>\n",
       "      <th>...</th>\n",
       "      <th>San Diego</th>\n",
       "      <th>San Francisco</th>\n",
       "      <th>San Jose</th>\n",
       "      <th>Scottsdale</th>\n",
       "      <th>Seattle</th>\n",
       "      <th>Stallings</th>\n",
       "      <th>Staten Island</th>\n",
       "      <th>Vancouver</th>\n",
       "      <th>Washington</th>\n",
       "      <th>Yukon</th>\n",
       "    </tr>\n",
       "  </thead>\n",
       "  <tbody>\n",
       "    <tr>\n",
       "      <th>0</th>\n",
       "      <td>3.0</td>\n",
       "      <td>2</td>\n",
       "      <td>1720.0</td>\n",
       "      <td>1</td>\n",
       "      <td>0</td>\n",
       "      <td>0</td>\n",
       "      <td>0</td>\n",
       "      <td>0</td>\n",
       "      <td>0</td>\n",
       "      <td>0</td>\n",
       "      <td>...</td>\n",
       "      <td>0</td>\n",
       "      <td>0</td>\n",
       "      <td>0</td>\n",
       "      <td>0</td>\n",
       "      <td>0</td>\n",
       "      <td>0</td>\n",
       "      <td>0</td>\n",
       "      <td>0</td>\n",
       "      <td>0</td>\n",
       "      <td>0</td>\n",
       "    </tr>\n",
       "    <tr>\n",
       "      <th>1</th>\n",
       "      <td>2.0</td>\n",
       "      <td>2</td>\n",
       "      <td>1258.0</td>\n",
       "      <td>1</td>\n",
       "      <td>0</td>\n",
       "      <td>0</td>\n",
       "      <td>0</td>\n",
       "      <td>0</td>\n",
       "      <td>0</td>\n",
       "      <td>0</td>\n",
       "      <td>...</td>\n",
       "      <td>0</td>\n",
       "      <td>0</td>\n",
       "      <td>0</td>\n",
       "      <td>0</td>\n",
       "      <td>0</td>\n",
       "      <td>0</td>\n",
       "      <td>0</td>\n",
       "      <td>0</td>\n",
       "      <td>0</td>\n",
       "      <td>0</td>\n",
       "    </tr>\n",
       "    <tr>\n",
       "      <th>2</th>\n",
       "      <td>3.0</td>\n",
       "      <td>2</td>\n",
       "      <td>1666.0</td>\n",
       "      <td>1</td>\n",
       "      <td>0</td>\n",
       "      <td>0</td>\n",
       "      <td>0</td>\n",
       "      <td>0</td>\n",
       "      <td>0</td>\n",
       "      <td>0</td>\n",
       "      <td>...</td>\n",
       "      <td>0</td>\n",
       "      <td>0</td>\n",
       "      <td>0</td>\n",
       "      <td>0</td>\n",
       "      <td>0</td>\n",
       "      <td>0</td>\n",
       "      <td>0</td>\n",
       "      <td>0</td>\n",
       "      <td>0</td>\n",
       "      <td>0</td>\n",
       "    </tr>\n",
       "  </tbody>\n",
       "</table>\n",
       "<p>3 rows × 44 columns</p>\n",
       "</div>"
      ],
      "text/plain": [
       "   BEDS  BATHS    SQFT  Antioch  Baltimore  Boston  Brooklyn  Charlotte  \\\n",
       "0   3.0      2  1720.0        1          0       0         0          0   \n",
       "1   2.0      2  1258.0        1          0       0         0          0   \n",
       "2   3.0      2  1666.0        1          0       0         0          0   \n",
       "\n",
       "   Chicago  Cleveland  ...  San Diego  San Francisco  San Jose  Scottsdale  \\\n",
       "0        0          0  ...          0              0         0           0   \n",
       "1        0          0  ...          0              0         0           0   \n",
       "2        0          0  ...          0              0         0           0   \n",
       "\n",
       "   Seattle  Stallings  Staten Island  Vancouver  Washington  Yukon  \n",
       "0        0          0              0          0           0      0  \n",
       "1        0          0              0          0           0      0  \n",
       "2        0          0              0          0           0      0  \n",
       "\n",
       "[3 rows x 44 columns]"
      ]
     },
     "execution_count": 51,
     "metadata": {},
     "output_type": "execute_result"
    }
   ],
   "source": [
    "X = df13.drop(['PRICE'],axis='columns')\n",
    "X.head(3)"
   ]
  },
  {
   "cell_type": "code",
   "execution_count": 52,
   "id": "cce6d40a-115a-453d-9fc7-fc4d7fa2550e",
   "metadata": {
    "tags": []
   },
   "outputs": [
    {
     "data": {
      "text/plain": [
       "(2864, 44)"
      ]
     },
     "execution_count": 52,
     "metadata": {},
     "output_type": "execute_result"
    }
   ],
   "source": [
    "X.shape"
   ]
  },
  {
   "cell_type": "code",
   "execution_count": 53,
   "id": "fc8856fa-0198-46aa-851c-35c4b9c64ce0",
   "metadata": {
    "tags": []
   },
   "outputs": [
    {
     "data": {
      "text/plain": [
       "0    369000.0\n",
       "1    279900.0\n",
       "2    379900.0\n",
       "3    359900.0\n",
       "Name: PRICE, dtype: float64"
      ]
     },
     "execution_count": 53,
     "metadata": {},
     "output_type": "execute_result"
    }
   ],
   "source": [
    "y = df13.PRICE\n",
    "y.head(4)"
   ]
  },
  {
   "cell_type": "code",
   "execution_count": 54,
   "id": "13d354d0-42bd-4a65-9bf4-32733eb8e4b3",
   "metadata": {
    "tags": []
   },
   "outputs": [
    {
     "data": {
      "text/plain": [
       "2864"
      ]
     },
     "execution_count": 54,
     "metadata": {},
     "output_type": "execute_result"
    }
   ],
   "source": [
    "len(y)"
   ]
  },
  {
   "cell_type": "code",
   "execution_count": 55,
   "id": "945f4488-195e-4d52-b6df-f67f5a10e8c6",
   "metadata": {
    "tags": []
   },
   "outputs": [],
   "source": [
    "from sklearn.model_selection import train_test_split\n",
    "X_train, X_test, y_train, y_test = train_test_split(X,y,test_size=0.2,random_state=10)"
   ]
  },
  {
   "cell_type": "code",
   "execution_count": 56,
   "id": "33e0f095-11f4-4cf2-900c-e7fd1213e917",
   "metadata": {
    "tags": []
   },
   "outputs": [
    {
     "data": {
      "text/plain": [
       "0.6975707462781979"
      ]
     },
     "execution_count": 56,
     "metadata": {},
     "output_type": "execute_result"
    }
   ],
   "source": [
    "#Linear regresion method\n",
    "from sklearn.linear_model import LinearRegression\n",
    "ln_rgr = LinearRegression()\n",
    "ln_rgr.fit(X_train,y_train)\n",
    "ln_rgr.score(X_test,y_test)"
   ]
  },
  {
   "cell_type": "code",
   "execution_count": 57,
   "id": "c15672a9-ebae-486b-b722-8e1be1458280",
   "metadata": {
    "tags": []
   },
   "outputs": [
    {
     "data": {
      "text/plain": [
       "array([0.77370389, 0.75114871, 0.75740319, 0.77171151, 0.76987721])"
      ]
     },
     "execution_count": 57,
     "metadata": {},
     "output_type": "execute_result"
    }
   ],
   "source": [
    "from sklearn.model_selection import ShuffleSplit\n",
    "from sklearn.model_selection import cross_val_score\n",
    "\n",
    "cv = ShuffleSplit(n_splits=5, test_size=0.2, random_state=0)\n",
    "cross_val_score(LinearRegression(), X, y, cv=cv)"
   ]
  },
  {
   "cell_type": "code",
   "execution_count": 58,
   "id": "5e311888-36bd-4782-b881-d85d1145aa86",
   "metadata": {
    "tags": []
   },
   "outputs": [
    {
     "name": "stderr",
     "output_type": "stream",
     "text": [
      "C:\\Users\\User\\AppData\\Local\\Packages\\PythonSoftwareFoundation.Python.3.10_qbz5n2kfra8p0\\LocalCache\\local-packages\\Python310\\site-packages\\sklearn\\model_selection\\_validation.py:378: FitFailedWarning: \n",
      "10 fits failed out of a total of 20.\n",
      "The score on these train-test partitions for these parameters will be set to nan.\n",
      "If these failures are not expected, you can try to debug them by setting error_score='raise'.\n",
      "\n",
      "Below are more details about the failures:\n",
      "--------------------------------------------------------------------------------\n",
      "10 fits failed with the following error:\n",
      "Traceback (most recent call last):\n",
      "  File \"C:\\Users\\User\\AppData\\Local\\Packages\\PythonSoftwareFoundation.Python.3.10_qbz5n2kfra8p0\\LocalCache\\local-packages\\Python310\\site-packages\\sklearn\\model_selection\\_validation.py\", line 686, in _fit_and_score\n",
      "    estimator.fit(X_train, y_train, **fit_params)\n",
      "  File \"C:\\Users\\User\\AppData\\Local\\Packages\\PythonSoftwareFoundation.Python.3.10_qbz5n2kfra8p0\\LocalCache\\local-packages\\Python310\\site-packages\\sklearn\\tree\\_classes.py\", line 1247, in fit\n",
      "    super().fit(\n",
      "  File \"C:\\Users\\User\\AppData\\Local\\Packages\\PythonSoftwareFoundation.Python.3.10_qbz5n2kfra8p0\\LocalCache\\local-packages\\Python310\\site-packages\\sklearn\\tree\\_classes.py\", line 177, in fit\n",
      "    self._validate_params()\n",
      "  File \"C:\\Users\\User\\AppData\\Local\\Packages\\PythonSoftwareFoundation.Python.3.10_qbz5n2kfra8p0\\LocalCache\\local-packages\\Python310\\site-packages\\sklearn\\base.py\", line 581, in _validate_params\n",
      "    validate_parameter_constraints(\n",
      "  File \"C:\\Users\\User\\AppData\\Local\\Packages\\PythonSoftwareFoundation.Python.3.10_qbz5n2kfra8p0\\LocalCache\\local-packages\\Python310\\site-packages\\sklearn\\utils\\_param_validation.py\", line 97, in validate_parameter_constraints\n",
      "    raise InvalidParameterError(\n",
      "sklearn.utils._param_validation.InvalidParameterError: The 'criterion' parameter of DecisionTreeRegressor must be a str among {'poisson', 'absolute_error', 'squared_error', 'friedman_mse'}. Got 'mse' instead.\n",
      "\n",
      "  warnings.warn(some_fits_failed_message, FitFailedWarning)\n",
      "C:\\Users\\User\\AppData\\Local\\Packages\\PythonSoftwareFoundation.Python.3.10_qbz5n2kfra8p0\\LocalCache\\local-packages\\Python310\\site-packages\\sklearn\\model_selection\\_search.py:952: UserWarning: One or more of the test scores are non-finite: [       nan        nan 0.89571062 0.86382294]\n",
      "  warnings.warn(\n"
     ]
    },
    {
     "data": {
      "text/html": [
       "<div>\n",
       "<style scoped>\n",
       "    .dataframe tbody tr th:only-of-type {\n",
       "        vertical-align: middle;\n",
       "    }\n",
       "\n",
       "    .dataframe tbody tr th {\n",
       "        vertical-align: top;\n",
       "    }\n",
       "\n",
       "    .dataframe thead th {\n",
       "        text-align: right;\n",
       "    }\n",
       "</style>\n",
       "<table border=\"1\" class=\"dataframe\">\n",
       "  <thead>\n",
       "    <tr style=\"text-align: right;\">\n",
       "      <th></th>\n",
       "      <th>model</th>\n",
       "      <th>best_score</th>\n",
       "      <th>best_params</th>\n",
       "    </tr>\n",
       "  </thead>\n",
       "  <tbody>\n",
       "    <tr>\n",
       "      <th>0</th>\n",
       "      <td>linear_regression</td>\n",
       "      <td>0.764769</td>\n",
       "      <td>{'positive': False}</td>\n",
       "    </tr>\n",
       "    <tr>\n",
       "      <th>1</th>\n",
       "      <td>lasso</td>\n",
       "      <td>0.764771</td>\n",
       "      <td>{'alpha': 2, 'selection': 'random'}</td>\n",
       "    </tr>\n",
       "    <tr>\n",
       "      <th>2</th>\n",
       "      <td>decision_tree</td>\n",
       "      <td>0.895711</td>\n",
       "      <td>{'criterion': 'friedman_mse', 'splitter': 'best'}</td>\n",
       "    </tr>\n",
       "  </tbody>\n",
       "</table>\n",
       "</div>"
      ],
      "text/plain": [
       "               model  best_score  \\\n",
       "0  linear_regression    0.764769   \n",
       "1              lasso    0.764771   \n",
       "2      decision_tree    0.895711   \n",
       "\n",
       "                                         best_params  \n",
       "0                                {'positive': False}  \n",
       "1                {'alpha': 2, 'selection': 'random'}  \n",
       "2  {'criterion': 'friedman_mse', 'splitter': 'best'}  "
      ]
     },
     "execution_count": 58,
     "metadata": {},
     "output_type": "execute_result"
    }
   ],
   "source": [
    "from sklearn.model_selection import GridSearchCV\n",
    "from sklearn.linear_model import Lasso\n",
    "from sklearn.tree import DecisionTreeRegressor\n",
    "\n",
    "def find_best_model_using_gridsearchcv(X,y):\n",
    "    algos = {\n",
    "        'linear_regression' : {\n",
    "            'model': LinearRegression(),\n",
    "            'params': {\n",
    "                'positive': [True, False]\n",
    "            }\n",
    "        },\n",
    "        'lasso': {\n",
    "            'model': Lasso(),\n",
    "            'params': {\n",
    "                'alpha': [1,2],\n",
    "                'selection': ['random', 'cyclic']\n",
    "            }\n",
    "        },\n",
    "        'decision_tree': {\n",
    "            'model': DecisionTreeRegressor(),\n",
    "            'params': {\n",
    "                'criterion' : ['mse','friedman_mse'],\n",
    "                'splitter': ['best','random']\n",
    "            }\n",
    "        }\n",
    "    }\n",
    "    scores = []\n",
    "    cv = ShuffleSplit(n_splits=5, test_size=0.2, random_state=0)\n",
    "    for algo_name, config in algos.items():\n",
    "        gs =  GridSearchCV(config['model'], config['params'], cv=cv, return_train_score=False)\n",
    "        gs.fit(X,y)\n",
    "        scores.append({\n",
    "            'model': algo_name,\n",
    "            'best_score': gs.best_score_,\n",
    "            'best_params': gs.best_params_\n",
    "        })\n",
    "\n",
    "    return pd.DataFrame(scores,columns=['model','best_score','best_params'])\n",
    "\n",
    "find_best_model_using_gridsearchcv(X,y)"
   ]
  },
  {
   "cell_type": "code",
   "execution_count": 59,
   "id": "dd59f516-f3d0-43c1-a6f0-635c114f2da6",
   "metadata": {
    "tags": []
   },
   "outputs": [
    {
     "data": {
      "text/html": [
       "<div>\n",
       "<style scoped>\n",
       "    .dataframe tbody tr th:only-of-type {\n",
       "        vertical-align: middle;\n",
       "    }\n",
       "\n",
       "    .dataframe tbody tr th {\n",
       "        vertical-align: top;\n",
       "    }\n",
       "\n",
       "    .dataframe thead th {\n",
       "        text-align: right;\n",
       "    }\n",
       "</style>\n",
       "<table border=\"1\" class=\"dataframe\">\n",
       "  <thead>\n",
       "    <tr style=\"text-align: right;\">\n",
       "      <th></th>\n",
       "      <th>Antioch</th>\n",
       "      <th>Baltimore</th>\n",
       "      <th>Boston</th>\n",
       "      <th>Brooklyn</th>\n",
       "      <th>Charlotte</th>\n",
       "      <th>Chicago</th>\n",
       "      <th>Cleveland</th>\n",
       "      <th>Columbus</th>\n",
       "      <th>Dallas</th>\n",
       "      <th>Detroit</th>\n",
       "      <th>...</th>\n",
       "      <th>San Francisco</th>\n",
       "      <th>San Jose</th>\n",
       "      <th>Scottsdale</th>\n",
       "      <th>Seattle</th>\n",
       "      <th>Stallings</th>\n",
       "      <th>Staten Island</th>\n",
       "      <th>Vancouver</th>\n",
       "      <th>Washington</th>\n",
       "      <th>Yukon</th>\n",
       "      <th>other</th>\n",
       "    </tr>\n",
       "  </thead>\n",
       "  <tbody>\n",
       "    <tr>\n",
       "      <th>0</th>\n",
       "      <td>1</td>\n",
       "      <td>0</td>\n",
       "      <td>0</td>\n",
       "      <td>0</td>\n",
       "      <td>0</td>\n",
       "      <td>0</td>\n",
       "      <td>0</td>\n",
       "      <td>0</td>\n",
       "      <td>0</td>\n",
       "      <td>0</td>\n",
       "      <td>...</td>\n",
       "      <td>0</td>\n",
       "      <td>0</td>\n",
       "      <td>0</td>\n",
       "      <td>0</td>\n",
       "      <td>0</td>\n",
       "      <td>0</td>\n",
       "      <td>0</td>\n",
       "      <td>0</td>\n",
       "      <td>0</td>\n",
       "      <td>0</td>\n",
       "    </tr>\n",
       "    <tr>\n",
       "      <th>1</th>\n",
       "      <td>1</td>\n",
       "      <td>0</td>\n",
       "      <td>0</td>\n",
       "      <td>0</td>\n",
       "      <td>0</td>\n",
       "      <td>0</td>\n",
       "      <td>0</td>\n",
       "      <td>0</td>\n",
       "      <td>0</td>\n",
       "      <td>0</td>\n",
       "      <td>...</td>\n",
       "      <td>0</td>\n",
       "      <td>0</td>\n",
       "      <td>0</td>\n",
       "      <td>0</td>\n",
       "      <td>0</td>\n",
       "      <td>0</td>\n",
       "      <td>0</td>\n",
       "      <td>0</td>\n",
       "      <td>0</td>\n",
       "      <td>0</td>\n",
       "    </tr>\n",
       "    <tr>\n",
       "      <th>2</th>\n",
       "      <td>1</td>\n",
       "      <td>0</td>\n",
       "      <td>0</td>\n",
       "      <td>0</td>\n",
       "      <td>0</td>\n",
       "      <td>0</td>\n",
       "      <td>0</td>\n",
       "      <td>0</td>\n",
       "      <td>0</td>\n",
       "      <td>0</td>\n",
       "      <td>...</td>\n",
       "      <td>0</td>\n",
       "      <td>0</td>\n",
       "      <td>0</td>\n",
       "      <td>0</td>\n",
       "      <td>0</td>\n",
       "      <td>0</td>\n",
       "      <td>0</td>\n",
       "      <td>0</td>\n",
       "      <td>0</td>\n",
       "      <td>0</td>\n",
       "    </tr>\n",
       "  </tbody>\n",
       "</table>\n",
       "<p>3 rows × 42 columns</p>\n",
       "</div>"
      ],
      "text/plain": [
       "   Antioch  Baltimore  Boston  Brooklyn  Charlotte  Chicago  Cleveland  \\\n",
       "0        1          0       0         0          0        0          0   \n",
       "1        1          0       0         0          0        0          0   \n",
       "2        1          0       0         0          0        0          0   \n",
       "\n",
       "   Columbus  Dallas  Detroit  ...  San Francisco  San Jose  Scottsdale  \\\n",
       "0         0       0        0  ...              0         0           0   \n",
       "1         0       0        0  ...              0         0           0   \n",
       "2         0       0        0  ...              0         0           0   \n",
       "\n",
       "   Seattle  Stallings  Staten Island  Vancouver  Washington  Yukon  other  \n",
       "0        0          0              0          0           0      0      0  \n",
       "1        0          0              0          0           0      0      0  \n",
       "2        0          0              0          0           0      0      0  \n",
       "\n",
       "[3 rows x 42 columns]"
      ]
     },
     "execution_count": 59,
     "metadata": {},
     "output_type": "execute_result"
    }
   ],
   "source": [
    "encoding.head(3)"
   ]
  },
  {
   "cell_type": "code",
   "execution_count": 60,
   "id": "98bbe5ee-78b5-499d-9662-f7e8b13d78ef",
   "metadata": {
    "tags": []
   },
   "outputs": [],
   "source": [
    "from sklearn.model_selection import train_test_split\n",
    "X_train, X_test, y_train, y_test = train_test_split(X, y, test_size=0.20)"
   ]
  },
  {
   "cell_type": "code",
   "execution_count": 61,
   "id": "9a577e77-ac51-4a9b-a3de-1784ee9f0947",
   "metadata": {
    "tags": []
   },
   "outputs": [
    {
     "data": {
      "text/plain": [
       "array([1079900.        ,  152500.        ,  460000.        ,\n",
       "        452500.        ,  906000.        , 1380000.        ,\n",
       "        285000.        ,  120000.        ,  316500.        ,\n",
       "        105000.        ,  742900.        ,   86000.        ,\n",
       "       1000000.        ,  399900.        ,  400000.        ,\n",
       "        105000.        ,  547290.        ,  730000.        ,\n",
       "        255000.        , 3250000.        , 1370000.        ,\n",
       "       1849000.        , 1600000.        ,  365000.        ,\n",
       "       1399000.        ,   65000.        ,  235000.        ,\n",
       "         74500.        ,  739900.        ,  310000.        ,\n",
       "        660000.        ,  205000.        , 1482000.        ,\n",
       "        994750.        , 1800000.        , 1225000.        ,\n",
       "        661900.        ,  399999.        ,  735000.        ,\n",
       "        330000.        ,  425000.        ,  349900.        ,\n",
       "        575000.        ,  289900.        ,  899000.        ,\n",
       "        355000.        , 1217000.        ,  140000.        ,\n",
       "        299000.        ,  375000.        ,  432000.        ,\n",
       "        359900.        ,  589500.        ,  300000.        ,\n",
       "        400000.        ,  262000.        ,  470000.        ,\n",
       "        100000.        ,  629000.        ,  679900.        ,\n",
       "        285000.        ,  380000.        ,  661900.        ,\n",
       "        660000.        ,  349900.        ,  360000.        ,\n",
       "        279900.        ,  260000.        ,  439900.        ,\n",
       "        116000.        , 1400000.        ,  600000.        ,\n",
       "        289000.        ,  700000.        ,  400000.        ,\n",
       "        275000.        ,  259900.        ,  539000.        ,\n",
       "        160000.        ,  640000.        ,  170000.        ,\n",
       "        250000.        , 3499000.        , 1765000.        ,\n",
       "       1300000.        ,  365000.        ,  840000.        ,\n",
       "        470000.        , 1482000.        , 3100000.        ,\n",
       "        429000.        ,  661900.        ,   46000.        ,\n",
       "        485000.        ,  435000.        ,  270000.        ,\n",
       "       1000000.        ,  365000.        , 1011150.        ,\n",
       "        779900.        , 1370000.        ,  753700.        ,\n",
       "        950000.        , 1222000.        ,  636285.        ,\n",
       "        130000.        ,  271000.        ,   60000.        ,\n",
       "        315000.        ,  510000.        ,  330495.        ,\n",
       "        200000.        ,  275000.        ,  535000.        ,\n",
       "       1625000.        ,   85000.        ,  720000.        ,\n",
       "        124900.        ,  360000.        ,  538900.        ,\n",
       "       1300000.        ,  785000.        ,  884500.        ,\n",
       "        185000.        ,  370000.        ,  900000.        ,\n",
       "        300000.        ,  661900.        ,  609593.        ,\n",
       "        975000.        ,  250000.        ,  500000.        ,\n",
       "       2995000.        ,  642743.        ,  884500.        ,\n",
       "        400000.        ,   74500.        ,  660000.        ,\n",
       "        220370.5       ,  899000.        ,  280000.        ,\n",
       "        699000.        ,  460000.        ,  919000.        ,\n",
       "        511190.        ,  520000.        , 1395000.        ,\n",
       "        590000.        ,  641000.        ,  969900.        ,\n",
       "       3499000.        ,  543590.        ,  476190.        ,\n",
       "        698000.        ,  989000.        ,  350000.        ,\n",
       "        180000.        ,  430000.        , 2108000.        ,\n",
       "        170000.        ,  470000.        ,  380000.        ,\n",
       "        199500.        ,  550000.        , 1575000.        ,\n",
       "        579000.        ,  606000.        ,  599000.        ,\n",
       "        419000.        ,  425000.        ,  718500.        ,\n",
       "        145000.        ,  469000.        ,  177500.        ,\n",
       "        642743.        ,  249900.        ,  410000.        ,\n",
       "       1249950.        ,  100500.        ,  690000.        ,\n",
       "       1079900.        , 1835000.        ,  179900.        ,\n",
       "        389000.        ,  170000.        ,  126500.        ,\n",
       "        281999.        ,  212000.        ,  884500.        ,\n",
       "        217500.        , 2625000.        , 3400000.        ,\n",
       "         85000.        ,  720000.        , 1269000.        ,\n",
       "         49900.        , 1300000.        ,  718500.        ,\n",
       "       1649000.        ,  369000.        , 1200000.        ,\n",
       "        475000.        , 1590000.        ,  300000.        ,\n",
       "        600000.        ,  168000.        ,  179900.        ,\n",
       "        530000.        , 1100000.        ,  450000.        ,\n",
       "        881340.        , 1100000.        ,  170000.        ,\n",
       "        155000.        ,  185000.        ,  799000.        ,\n",
       "        525000.        ,  550000.        ,  510000.        ,\n",
       "        690000.        ,  367000.        , 1088000.        ,\n",
       "        350000.        , 2070000.        ,  177500.        ,\n",
       "        414900.        ,  470000.        , 1399000.        ,\n",
       "        260000.        , 1495000.        ,  247795.        ,\n",
       "       1900000.        , 1340000.        ,  302500.        ,\n",
       "        419900.        ,  472500.        , 1425000.        ,\n",
       "        481289.        ,  271000.        ,  100000.        ,\n",
       "        720000.        ,  271000.        , 1265000.        ,\n",
       "       2070000.        ,  740000.        , 1100000.        ,\n",
       "        177000.        , 1488000.        ,  560000.        ,\n",
       "       1220000.        ,  349900.        ,  742900.        ,\n",
       "        330000.        ,  289000.        , 2099000.        ,\n",
       "        299900.        ,  175000.        ,  294500.        ,\n",
       "        356000.        ,  699900.        ,  335500.        ,\n",
       "       1075000.        ,  199500.        , 1260000.        ,\n",
       "        218190.        ,  300000.        , 2250000.        ,\n",
       "        207000.        ,  975000.        ,  190000.        ,\n",
       "        350000.        ,  231000.        ,  538900.        ,\n",
       "        421666.66666667,  477070.        ,  362000.        ,\n",
       "        599000.        ,  901000.        , 1875000.        ,\n",
       "        240000.        ,  430886.        , 2070000.        ,\n",
       "        370000.        ,  875000.        ,  349900.        ,\n",
       "        290990.        ,  590000.        ,  135000.        ,\n",
       "       1399000.        ,  799900.        ,   49900.        ,\n",
       "       2105000.        ,  307000.        , 1039900.        ,\n",
       "       1275000.        ,  988650.        ,  661900.        ,\n",
       "       1599000.        ,  380900.        ,  600000.        ,\n",
       "         90700.        ,  359990.        , 1075000.        ,\n",
       "        749000.        ,  233000.        ,  140000.        ,\n",
       "        469000.        ,   75000.        ,  512500.        ,\n",
       "        919900.        ,  729000.        ,  969000.        ,\n",
       "        799900.        , 1252922.        ,  747208.        ,\n",
       "        590000.        , 3198800.        ,   75000.        ,\n",
       "       1079900.        ,  775000.        ,  249900.        ,\n",
       "        606000.        ,  670000.        ,  355000.        ,\n",
       "        747208.        ,  359990.        ,  742900.        ,\n",
       "        789900.        ,  705000.        ,  318000.        ,\n",
       "        500000.        , 1527000.        , 1450000.        ,\n",
       "       1269000.        ,  325000.        ,  107500.        ,\n",
       "        460000.        ,  340000.        ,  865000.        ,\n",
       "        289900.        ,  510000.        ,  450000.        ,\n",
       "        800000.        ,  189900.        ,  423000.        ,\n",
       "        209900.        ,  460000.        ,  230000.        ,\n",
       "        392000.        ,  481585.        ,  280000.        ,\n",
       "        230000.        ,  235000.        ,  529900.        ,\n",
       "        175000.        ,  318000.        ,  475000.        ,\n",
       "        172500.        , 1250000.        ,  899000.        ,\n",
       "        310000.        , 1750000.        , 1899888.        ,\n",
       "        250000.        ,  695000.        , 1450000.        ,\n",
       "       1680000.        , 1550000.        ,  491332.        ,\n",
       "         88000.        ,  584900.        , 3975000.        ,\n",
       "        520000.        ,  520000.        ,  661900.        ,\n",
       "       1450000.        ,  305000.        ,  825000.        ,\n",
       "        481005.        ,  849000.        ,   97000.        ,\n",
       "         40000.        , 1171000.        ,  242000.        ,\n",
       "        365000.        , 1222000.        ,  205000.        ,\n",
       "        625000.        ,  399000.        ,  320000.        ,\n",
       "        729000.        ,  587198.5       ,  430000.        ,\n",
       "        199900.        ,  185000.        ,  725000.        ,\n",
       "        765000.        ,  660000.        ,  353000.        ,\n",
       "        849000.        ,  365000.        ,  527000.        ,\n",
       "        565000.        ,  289000.        ,  575000.        ,\n",
       "        600000.        ,   92500.        ,  281950.        ,\n",
       "        212000.        ,  119900.        , 1600000.        ,\n",
       "        210000.        ,  389000.        ,  900000.        ,\n",
       "        880000.        , 2360000.        ,  650000.        ,\n",
       "        414900.        ,  827000.        ,  819000.        ,\n",
       "        742900.        ,  699000.        , 1225000.        ,\n",
       "        104500.        ,  170000.        , 1269000.        ,\n",
       "       1450000.        ,  110000.        ,  250000.        ,\n",
       "        322324.        ,  315000.        ,  615000.        ,\n",
       "       1285000.        ,  675000.        , 1870000.        ,\n",
       "       1215000.        ,  441951.        ,  385000.        ,\n",
       "        570260.        ,  438197.        ,  218190.        ,\n",
       "        150000.        , 2100000.        ,  245500.        ,\n",
       "        949000.        , 1150000.        ,  437840.        ,\n",
       "        999000.        ,  370000.        ,  130000.        ,\n",
       "        421666.66666667,  600000.        ,  515000.        ,\n",
       "       1699999.        ,  490000.        ,  799900.        ,\n",
       "        182000.        , 1079900.        , 1200000.        ,\n",
       "         75000.        ,  349500.        ,  129900.        ,\n",
       "        340000.        ,  250000.        ,  600000.        ,\n",
       "        285000.        ,  107500.        ,  335000.        ,\n",
       "        250000.        ,  500000.        ,  490000.        ,\n",
       "        196833.33333333,  474900.        ,  250000.        ,\n",
       "       1600000.        , 1250000.        ,  212000.        ,\n",
       "        199500.        ,  337990.        ,  270000.        ,\n",
       "        159750.        ,  142000.        ,  439900.        ,\n",
       "        105000.        ,  629900.        ,  429000.        ,\n",
       "        390900.        ,  649999.        ,  490000.        ,\n",
       "        679900.        ,  225000.        , 1423900.        ,\n",
       "       2180000.        , 1825000.        ,  792000.        ,\n",
       "        414000.        ,  754900.        ,  410000.        ,\n",
       "       1750000.        , 1405000.        ,  661900.        ,\n",
       "        220000.        ,  789000.        , 1915000.        ,\n",
       "        399900.        , 1179000.        ,  138500.        ,\n",
       "        661900.        ,  200000.        ,  376000.        ,\n",
       "        427000.        ,  110000.        ,  944000.        ,\n",
       "        320500.        ,  250000.        ,  680000.        ,\n",
       "        153500.        ,   90700.        , 1550000.        ,\n",
       "        442000.        ,  914000.        ,  185000.        ,\n",
       "        437500.        , 1482000.        ,  275000.        ,\n",
       "        365000.        ,  309000.        ,  431370.        ,\n",
       "        775000.        ,  300000.        ,   70950.        ,\n",
       "       1300000.        ,  390000.        ,  138000.        ,\n",
       "        535000.        ,  600000.        , 1075000.        ,\n",
       "        705000.        ,  350000.        ,  375000.        ,\n",
       "        440000.        ,  318000.        ,  349900.        ,\n",
       "       1267500.        ,  420000.        ,  455000.        ,\n",
       "        359943.        ,  884500.        ,  629000.        ,\n",
       "       1365000.        ,   92500.        ,  707000.        ,\n",
       "        352500.        ,  560000.        ,  349000.        ,\n",
       "        330000.        ,  299900.        ,  707000.        ,\n",
       "        375000.        ,  390000.        ,  299500.        ,\n",
       "        465000.        ,  178900.        ,  298000.        ,\n",
       "        235000.        ,  415000.        , 2850000.        ,\n",
       "        425000.        ,  465000.        ,  469000.        ,\n",
       "        318284.        ,  175000.        ,  330000.        ])"
      ]
     },
     "execution_count": 61,
     "metadata": {},
     "output_type": "execute_result"
    }
   ],
   "source": [
    "from sklearn.tree import DecisionTreeRegressor\n",
    "\n",
    "# Create the regressor object\n",
    "regressor = DecisionTreeRegressor(random_state = 10)\n",
    "\n",
    "# Fit the regressor to the training data\n",
    "regressor.fit(X_train, y_train)\n",
    "regressor.score(X_test,y_test)\n",
    "# Predict the target values for the test data\n",
    "regressor.predict(X_test)"
   ]
  },
  {
   "cell_type": "code",
   "execution_count": 62,
   "id": "0e8fc638-0675-4aac-b876-b5dbb9c57b06",
   "metadata": {
    "tags": []
   },
   "outputs": [
    {
     "data": {
      "text/html": [
       "<div>\n",
       "<style scoped>\n",
       "    .dataframe tbody tr th:only-of-type {\n",
       "        vertical-align: middle;\n",
       "    }\n",
       "\n",
       "    .dataframe tbody tr th {\n",
       "        vertical-align: top;\n",
       "    }\n",
       "\n",
       "    .dataframe thead th {\n",
       "        text-align: right;\n",
       "    }\n",
       "</style>\n",
       "<table border=\"1\" class=\"dataframe\">\n",
       "  <thead>\n",
       "    <tr style=\"text-align: right;\">\n",
       "      <th></th>\n",
       "      <th>PRICE</th>\n",
       "      <th>BEDS</th>\n",
       "      <th>BATHS</th>\n",
       "      <th>SQFT</th>\n",
       "      <th>Antioch</th>\n",
       "      <th>Baltimore</th>\n",
       "      <th>Boston</th>\n",
       "      <th>Brooklyn</th>\n",
       "      <th>Charlotte</th>\n",
       "      <th>Chicago</th>\n",
       "      <th>...</th>\n",
       "      <th>San Diego</th>\n",
       "      <th>San Francisco</th>\n",
       "      <th>San Jose</th>\n",
       "      <th>Scottsdale</th>\n",
       "      <th>Seattle</th>\n",
       "      <th>Stallings</th>\n",
       "      <th>Staten Island</th>\n",
       "      <th>Vancouver</th>\n",
       "      <th>Washington</th>\n",
       "      <th>Yukon</th>\n",
       "    </tr>\n",
       "  </thead>\n",
       "  <tbody>\n",
       "    <tr>\n",
       "      <th>count</th>\n",
       "      <td>2.864000e+03</td>\n",
       "      <td>2864.000000</td>\n",
       "      <td>2864.000000</td>\n",
       "      <td>2864.000000</td>\n",
       "      <td>2864.000000</td>\n",
       "      <td>2864.000000</td>\n",
       "      <td>2864.000000</td>\n",
       "      <td>2864.000000</td>\n",
       "      <td>2864.000000</td>\n",
       "      <td>2864.000000</td>\n",
       "      <td>...</td>\n",
       "      <td>2864.000000</td>\n",
       "      <td>2864.000000</td>\n",
       "      <td>2864.000000</td>\n",
       "      <td>2864.000000</td>\n",
       "      <td>2864.000000</td>\n",
       "      <td>2864.000000</td>\n",
       "      <td>2864.000000</td>\n",
       "      <td>2864.000000</td>\n",
       "      <td>2864.000000</td>\n",
       "      <td>2864.000000</td>\n",
       "    </tr>\n",
       "    <tr>\n",
       "      <th>mean</th>\n",
       "      <td>6.711371e+05</td>\n",
       "      <td>2.878492</td>\n",
       "      <td>2.001746</td>\n",
       "      <td>1663.482891</td>\n",
       "      <td>0.009078</td>\n",
       "      <td>0.011173</td>\n",
       "      <td>0.037011</td>\n",
       "      <td>0.009078</td>\n",
       "      <td>0.035265</td>\n",
       "      <td>0.036662</td>\n",
       "      <td>...</td>\n",
       "      <td>0.040852</td>\n",
       "      <td>0.028282</td>\n",
       "      <td>0.047835</td>\n",
       "      <td>0.004190</td>\n",
       "      <td>0.040154</td>\n",
       "      <td>0.003142</td>\n",
       "      <td>0.005587</td>\n",
       "      <td>0.057612</td>\n",
       "      <td>0.045740</td>\n",
       "      <td>0.012570</td>\n",
       "    </tr>\n",
       "    <tr>\n",
       "      <th>std</th>\n",
       "      <td>7.291603e+05</td>\n",
       "      <td>1.322277</td>\n",
       "      <td>0.930147</td>\n",
       "      <td>919.708781</td>\n",
       "      <td>0.094863</td>\n",
       "      <td>0.105129</td>\n",
       "      <td>0.188822</td>\n",
       "      <td>0.094863</td>\n",
       "      <td>0.184482</td>\n",
       "      <td>0.187963</td>\n",
       "      <td>...</td>\n",
       "      <td>0.197982</td>\n",
       "      <td>0.165807</td>\n",
       "      <td>0.213455</td>\n",
       "      <td>0.064605</td>\n",
       "      <td>0.196354</td>\n",
       "      <td>0.055979</td>\n",
       "      <td>0.074547</td>\n",
       "      <td>0.233048</td>\n",
       "      <td>0.208958</td>\n",
       "      <td>0.111428</td>\n",
       "    </tr>\n",
       "    <tr>\n",
       "      <th>min</th>\n",
       "      <td>2.300000e+04</td>\n",
       "      <td>0.000000</td>\n",
       "      <td>0.000000</td>\n",
       "      <td>337.000000</td>\n",
       "      <td>0.000000</td>\n",
       "      <td>0.000000</td>\n",
       "      <td>0.000000</td>\n",
       "      <td>0.000000</td>\n",
       "      <td>0.000000</td>\n",
       "      <td>0.000000</td>\n",
       "      <td>...</td>\n",
       "      <td>0.000000</td>\n",
       "      <td>0.000000</td>\n",
       "      <td>0.000000</td>\n",
       "      <td>0.000000</td>\n",
       "      <td>0.000000</td>\n",
       "      <td>0.000000</td>\n",
       "      <td>0.000000</td>\n",
       "      <td>0.000000</td>\n",
       "      <td>0.000000</td>\n",
       "      <td>0.000000</td>\n",
       "    </tr>\n",
       "    <tr>\n",
       "      <th>25%</th>\n",
       "      <td>2.746750e+05</td>\n",
       "      <td>2.000000</td>\n",
       "      <td>1.000000</td>\n",
       "      <td>1064.000000</td>\n",
       "      <td>0.000000</td>\n",
       "      <td>0.000000</td>\n",
       "      <td>0.000000</td>\n",
       "      <td>0.000000</td>\n",
       "      <td>0.000000</td>\n",
       "      <td>0.000000</td>\n",
       "      <td>...</td>\n",
       "      <td>0.000000</td>\n",
       "      <td>0.000000</td>\n",
       "      <td>0.000000</td>\n",
       "      <td>0.000000</td>\n",
       "      <td>0.000000</td>\n",
       "      <td>0.000000</td>\n",
       "      <td>0.000000</td>\n",
       "      <td>0.000000</td>\n",
       "      <td>0.000000</td>\n",
       "      <td>0.000000</td>\n",
       "    </tr>\n",
       "    <tr>\n",
       "      <th>50%</th>\n",
       "      <td>4.399000e+05</td>\n",
       "      <td>3.000000</td>\n",
       "      <td>2.000000</td>\n",
       "      <td>1438.000000</td>\n",
       "      <td>0.000000</td>\n",
       "      <td>0.000000</td>\n",
       "      <td>0.000000</td>\n",
       "      <td>0.000000</td>\n",
       "      <td>0.000000</td>\n",
       "      <td>0.000000</td>\n",
       "      <td>...</td>\n",
       "      <td>0.000000</td>\n",
       "      <td>0.000000</td>\n",
       "      <td>0.000000</td>\n",
       "      <td>0.000000</td>\n",
       "      <td>0.000000</td>\n",
       "      <td>0.000000</td>\n",
       "      <td>0.000000</td>\n",
       "      <td>0.000000</td>\n",
       "      <td>0.000000</td>\n",
       "      <td>0.000000</td>\n",
       "    </tr>\n",
       "    <tr>\n",
       "      <th>75%</th>\n",
       "      <td>7.999000e+05</td>\n",
       "      <td>3.000000</td>\n",
       "      <td>2.000000</td>\n",
       "      <td>2015.750000</td>\n",
       "      <td>0.000000</td>\n",
       "      <td>0.000000</td>\n",
       "      <td>0.000000</td>\n",
       "      <td>0.000000</td>\n",
       "      <td>0.000000</td>\n",
       "      <td>0.000000</td>\n",
       "      <td>...</td>\n",
       "      <td>0.000000</td>\n",
       "      <td>0.000000</td>\n",
       "      <td>0.000000</td>\n",
       "      <td>0.000000</td>\n",
       "      <td>0.000000</td>\n",
       "      <td>0.000000</td>\n",
       "      <td>0.000000</td>\n",
       "      <td>0.000000</td>\n",
       "      <td>0.000000</td>\n",
       "      <td>0.000000</td>\n",
       "    </tr>\n",
       "    <tr>\n",
       "      <th>max</th>\n",
       "      <td>1.050000e+07</td>\n",
       "      <td>13.000000</td>\n",
       "      <td>13.000000</td>\n",
       "      <td>8400.000000</td>\n",
       "      <td>1.000000</td>\n",
       "      <td>1.000000</td>\n",
       "      <td>1.000000</td>\n",
       "      <td>1.000000</td>\n",
       "      <td>1.000000</td>\n",
       "      <td>1.000000</td>\n",
       "      <td>...</td>\n",
       "      <td>1.000000</td>\n",
       "      <td>1.000000</td>\n",
       "      <td>1.000000</td>\n",
       "      <td>1.000000</td>\n",
       "      <td>1.000000</td>\n",
       "      <td>1.000000</td>\n",
       "      <td>1.000000</td>\n",
       "      <td>1.000000</td>\n",
       "      <td>1.000000</td>\n",
       "      <td>1.000000</td>\n",
       "    </tr>\n",
       "  </tbody>\n",
       "</table>\n",
       "<p>8 rows × 45 columns</p>\n",
       "</div>"
      ],
      "text/plain": [
       "              PRICE         BEDS        BATHS         SQFT      Antioch  \\\n",
       "count  2.864000e+03  2864.000000  2864.000000  2864.000000  2864.000000   \n",
       "mean   6.711371e+05     2.878492     2.001746  1663.482891     0.009078   \n",
       "std    7.291603e+05     1.322277     0.930147   919.708781     0.094863   \n",
       "min    2.300000e+04     0.000000     0.000000   337.000000     0.000000   \n",
       "25%    2.746750e+05     2.000000     1.000000  1064.000000     0.000000   \n",
       "50%    4.399000e+05     3.000000     2.000000  1438.000000     0.000000   \n",
       "75%    7.999000e+05     3.000000     2.000000  2015.750000     0.000000   \n",
       "max    1.050000e+07    13.000000    13.000000  8400.000000     1.000000   \n",
       "\n",
       "         Baltimore       Boston     Brooklyn    Charlotte      Chicago  ...  \\\n",
       "count  2864.000000  2864.000000  2864.000000  2864.000000  2864.000000  ...   \n",
       "mean      0.011173     0.037011     0.009078     0.035265     0.036662  ...   \n",
       "std       0.105129     0.188822     0.094863     0.184482     0.187963  ...   \n",
       "min       0.000000     0.000000     0.000000     0.000000     0.000000  ...   \n",
       "25%       0.000000     0.000000     0.000000     0.000000     0.000000  ...   \n",
       "50%       0.000000     0.000000     0.000000     0.000000     0.000000  ...   \n",
       "75%       0.000000     0.000000     0.000000     0.000000     0.000000  ...   \n",
       "max       1.000000     1.000000     1.000000     1.000000     1.000000  ...   \n",
       "\n",
       "         San Diego  San Francisco     San Jose   Scottsdale      Seattle  \\\n",
       "count  2864.000000    2864.000000  2864.000000  2864.000000  2864.000000   \n",
       "mean      0.040852       0.028282     0.047835     0.004190     0.040154   \n",
       "std       0.197982       0.165807     0.213455     0.064605     0.196354   \n",
       "min       0.000000       0.000000     0.000000     0.000000     0.000000   \n",
       "25%       0.000000       0.000000     0.000000     0.000000     0.000000   \n",
       "50%       0.000000       0.000000     0.000000     0.000000     0.000000   \n",
       "75%       0.000000       0.000000     0.000000     0.000000     0.000000   \n",
       "max       1.000000       1.000000     1.000000     1.000000     1.000000   \n",
       "\n",
       "         Stallings  Staten Island    Vancouver   Washington        Yukon  \n",
       "count  2864.000000    2864.000000  2864.000000  2864.000000  2864.000000  \n",
       "mean      0.003142       0.005587     0.057612     0.045740     0.012570  \n",
       "std       0.055979       0.074547     0.233048     0.208958     0.111428  \n",
       "min       0.000000       0.000000     0.000000     0.000000     0.000000  \n",
       "25%       0.000000       0.000000     0.000000     0.000000     0.000000  \n",
       "50%       0.000000       0.000000     0.000000     0.000000     0.000000  \n",
       "75%       0.000000       0.000000     0.000000     0.000000     0.000000  \n",
       "max       1.000000       1.000000     1.000000     1.000000     1.000000  \n",
       "\n",
       "[8 rows x 45 columns]"
      ]
     },
     "execution_count": 62,
     "metadata": {},
     "output_type": "execute_result"
    }
   ],
   "source": [
    "df13.describe()"
   ]
  },
  {
   "cell_type": "code",
   "execution_count": 63,
   "id": "a588269f-49c0-457f-b6ba-1360867b996c",
   "metadata": {
    "tags": []
   },
   "outputs": [
    {
     "data": {
      "text/plain": [
       "0        369000.0\n",
       "1        279900.0\n",
       "2        379900.0\n",
       "3        359900.0\n",
       "4        525000.0\n",
       "          ...    \n",
       "5562     264000.0\n",
       "5564     260000.0\n",
       "5565     629900.0\n",
       "5567    1460000.0\n",
       "5568    1475000.0\n",
       "Name: PRICE, Length: 2864, dtype: float64"
      ]
     },
     "execution_count": 63,
     "metadata": {},
     "output_type": "execute_result"
    }
   ],
   "source": [
    "df13['PRICE'].round(2)"
   ]
  },
  {
   "cell_type": "code",
   "execution_count": 64,
   "id": "f321158a-49af-4710-9fdb-0e967052908d",
   "metadata": {
    "tags": []
   },
   "outputs": [
    {
     "data": {
      "text/html": [
       "<div>\n",
       "<style scoped>\n",
       "    .dataframe tbody tr th:only-of-type {\n",
       "        vertical-align: middle;\n",
       "    }\n",
       "\n",
       "    .dataframe tbody tr th {\n",
       "        vertical-align: top;\n",
       "    }\n",
       "\n",
       "    .dataframe thead th {\n",
       "        text-align: right;\n",
       "    }\n",
       "</style>\n",
       "<table border=\"1\" class=\"dataframe\">\n",
       "  <thead>\n",
       "    <tr style=\"text-align: right;\">\n",
       "      <th></th>\n",
       "      <th>PRICE</th>\n",
       "      <th>BEDS</th>\n",
       "      <th>BATHS</th>\n",
       "      <th>SQFT</th>\n",
       "      <th>Antioch</th>\n",
       "      <th>Baltimore</th>\n",
       "      <th>Boston</th>\n",
       "      <th>Brooklyn</th>\n",
       "      <th>Charlotte</th>\n",
       "      <th>Chicago</th>\n",
       "      <th>...</th>\n",
       "      <th>San Diego</th>\n",
       "      <th>San Francisco</th>\n",
       "      <th>San Jose</th>\n",
       "      <th>Scottsdale</th>\n",
       "      <th>Seattle</th>\n",
       "      <th>Stallings</th>\n",
       "      <th>Staten Island</th>\n",
       "      <th>Vancouver</th>\n",
       "      <th>Washington</th>\n",
       "      <th>Yukon</th>\n",
       "    </tr>\n",
       "  </thead>\n",
       "  <tbody>\n",
       "    <tr>\n",
       "      <th>count</th>\n",
       "      <td>2864.00</td>\n",
       "      <td>2864.00</td>\n",
       "      <td>2864.00</td>\n",
       "      <td>2864.00</td>\n",
       "      <td>2864.00</td>\n",
       "      <td>2864.00</td>\n",
       "      <td>2864.00</td>\n",
       "      <td>2864.00</td>\n",
       "      <td>2864.00</td>\n",
       "      <td>2864.00</td>\n",
       "      <td>...</td>\n",
       "      <td>2864.00</td>\n",
       "      <td>2864.00</td>\n",
       "      <td>2864.00</td>\n",
       "      <td>2864.00</td>\n",
       "      <td>2864.00</td>\n",
       "      <td>2864.00</td>\n",
       "      <td>2864.00</td>\n",
       "      <td>2864.00</td>\n",
       "      <td>2864.00</td>\n",
       "      <td>2864.00</td>\n",
       "    </tr>\n",
       "    <tr>\n",
       "      <th>mean</th>\n",
       "      <td>671137.10</td>\n",
       "      <td>2.88</td>\n",
       "      <td>2.00</td>\n",
       "      <td>1663.48</td>\n",
       "      <td>0.01</td>\n",
       "      <td>0.01</td>\n",
       "      <td>0.04</td>\n",
       "      <td>0.01</td>\n",
       "      <td>0.04</td>\n",
       "      <td>0.04</td>\n",
       "      <td>...</td>\n",
       "      <td>0.04</td>\n",
       "      <td>0.03</td>\n",
       "      <td>0.05</td>\n",
       "      <td>0.00</td>\n",
       "      <td>0.04</td>\n",
       "      <td>0.00</td>\n",
       "      <td>0.01</td>\n",
       "      <td>0.06</td>\n",
       "      <td>0.05</td>\n",
       "      <td>0.01</td>\n",
       "    </tr>\n",
       "    <tr>\n",
       "      <th>std</th>\n",
       "      <td>729160.29</td>\n",
       "      <td>1.32</td>\n",
       "      <td>0.93</td>\n",
       "      <td>919.71</td>\n",
       "      <td>0.09</td>\n",
       "      <td>0.11</td>\n",
       "      <td>0.19</td>\n",
       "      <td>0.09</td>\n",
       "      <td>0.18</td>\n",
       "      <td>0.19</td>\n",
       "      <td>...</td>\n",
       "      <td>0.20</td>\n",
       "      <td>0.17</td>\n",
       "      <td>0.21</td>\n",
       "      <td>0.06</td>\n",
       "      <td>0.20</td>\n",
       "      <td>0.06</td>\n",
       "      <td>0.07</td>\n",
       "      <td>0.23</td>\n",
       "      <td>0.21</td>\n",
       "      <td>0.11</td>\n",
       "    </tr>\n",
       "    <tr>\n",
       "      <th>min</th>\n",
       "      <td>23000.00</td>\n",
       "      <td>0.00</td>\n",
       "      <td>0.00</td>\n",
       "      <td>337.00</td>\n",
       "      <td>0.00</td>\n",
       "      <td>0.00</td>\n",
       "      <td>0.00</td>\n",
       "      <td>0.00</td>\n",
       "      <td>0.00</td>\n",
       "      <td>0.00</td>\n",
       "      <td>...</td>\n",
       "      <td>0.00</td>\n",
       "      <td>0.00</td>\n",
       "      <td>0.00</td>\n",
       "      <td>0.00</td>\n",
       "      <td>0.00</td>\n",
       "      <td>0.00</td>\n",
       "      <td>0.00</td>\n",
       "      <td>0.00</td>\n",
       "      <td>0.00</td>\n",
       "      <td>0.00</td>\n",
       "    </tr>\n",
       "    <tr>\n",
       "      <th>25%</th>\n",
       "      <td>274675.00</td>\n",
       "      <td>2.00</td>\n",
       "      <td>1.00</td>\n",
       "      <td>1064.00</td>\n",
       "      <td>0.00</td>\n",
       "      <td>0.00</td>\n",
       "      <td>0.00</td>\n",
       "      <td>0.00</td>\n",
       "      <td>0.00</td>\n",
       "      <td>0.00</td>\n",
       "      <td>...</td>\n",
       "      <td>0.00</td>\n",
       "      <td>0.00</td>\n",
       "      <td>0.00</td>\n",
       "      <td>0.00</td>\n",
       "      <td>0.00</td>\n",
       "      <td>0.00</td>\n",
       "      <td>0.00</td>\n",
       "      <td>0.00</td>\n",
       "      <td>0.00</td>\n",
       "      <td>0.00</td>\n",
       "    </tr>\n",
       "    <tr>\n",
       "      <th>50%</th>\n",
       "      <td>439900.00</td>\n",
       "      <td>3.00</td>\n",
       "      <td>2.00</td>\n",
       "      <td>1438.00</td>\n",
       "      <td>0.00</td>\n",
       "      <td>0.00</td>\n",
       "      <td>0.00</td>\n",
       "      <td>0.00</td>\n",
       "      <td>0.00</td>\n",
       "      <td>0.00</td>\n",
       "      <td>...</td>\n",
       "      <td>0.00</td>\n",
       "      <td>0.00</td>\n",
       "      <td>0.00</td>\n",
       "      <td>0.00</td>\n",
       "      <td>0.00</td>\n",
       "      <td>0.00</td>\n",
       "      <td>0.00</td>\n",
       "      <td>0.00</td>\n",
       "      <td>0.00</td>\n",
       "      <td>0.00</td>\n",
       "    </tr>\n",
       "    <tr>\n",
       "      <th>75%</th>\n",
       "      <td>799900.00</td>\n",
       "      <td>3.00</td>\n",
       "      <td>2.00</td>\n",
       "      <td>2015.75</td>\n",
       "      <td>0.00</td>\n",
       "      <td>0.00</td>\n",
       "      <td>0.00</td>\n",
       "      <td>0.00</td>\n",
       "      <td>0.00</td>\n",
       "      <td>0.00</td>\n",
       "      <td>...</td>\n",
       "      <td>0.00</td>\n",
       "      <td>0.00</td>\n",
       "      <td>0.00</td>\n",
       "      <td>0.00</td>\n",
       "      <td>0.00</td>\n",
       "      <td>0.00</td>\n",
       "      <td>0.00</td>\n",
       "      <td>0.00</td>\n",
       "      <td>0.00</td>\n",
       "      <td>0.00</td>\n",
       "    </tr>\n",
       "    <tr>\n",
       "      <th>max</th>\n",
       "      <td>10500000.00</td>\n",
       "      <td>13.00</td>\n",
       "      <td>13.00</td>\n",
       "      <td>8400.00</td>\n",
       "      <td>1.00</td>\n",
       "      <td>1.00</td>\n",
       "      <td>1.00</td>\n",
       "      <td>1.00</td>\n",
       "      <td>1.00</td>\n",
       "      <td>1.00</td>\n",
       "      <td>...</td>\n",
       "      <td>1.00</td>\n",
       "      <td>1.00</td>\n",
       "      <td>1.00</td>\n",
       "      <td>1.00</td>\n",
       "      <td>1.00</td>\n",
       "      <td>1.00</td>\n",
       "      <td>1.00</td>\n",
       "      <td>1.00</td>\n",
       "      <td>1.00</td>\n",
       "      <td>1.00</td>\n",
       "    </tr>\n",
       "  </tbody>\n",
       "</table>\n",
       "<p>8 rows × 45 columns</p>\n",
       "</div>"
      ],
      "text/plain": [
       "             PRICE     BEDS    BATHS     SQFT  Antioch  Baltimore   Boston  \\\n",
       "count      2864.00  2864.00  2864.00  2864.00  2864.00    2864.00  2864.00   \n",
       "mean     671137.10     2.88     2.00  1663.48     0.01       0.01     0.04   \n",
       "std      729160.29     1.32     0.93   919.71     0.09       0.11     0.19   \n",
       "min       23000.00     0.00     0.00   337.00     0.00       0.00     0.00   \n",
       "25%      274675.00     2.00     1.00  1064.00     0.00       0.00     0.00   \n",
       "50%      439900.00     3.00     2.00  1438.00     0.00       0.00     0.00   \n",
       "75%      799900.00     3.00     2.00  2015.75     0.00       0.00     0.00   \n",
       "max    10500000.00    13.00    13.00  8400.00     1.00       1.00     1.00   \n",
       "\n",
       "       Brooklyn  Charlotte  Chicago  ...  San Diego  San Francisco  San Jose  \\\n",
       "count   2864.00    2864.00  2864.00  ...    2864.00        2864.00   2864.00   \n",
       "mean       0.01       0.04     0.04  ...       0.04           0.03      0.05   \n",
       "std        0.09       0.18     0.19  ...       0.20           0.17      0.21   \n",
       "min        0.00       0.00     0.00  ...       0.00           0.00      0.00   \n",
       "25%        0.00       0.00     0.00  ...       0.00           0.00      0.00   \n",
       "50%        0.00       0.00     0.00  ...       0.00           0.00      0.00   \n",
       "75%        0.00       0.00     0.00  ...       0.00           0.00      0.00   \n",
       "max        1.00       1.00     1.00  ...       1.00           1.00      1.00   \n",
       "\n",
       "       Scottsdale  Seattle  Stallings  Staten Island  Vancouver  Washington  \\\n",
       "count     2864.00  2864.00    2864.00        2864.00    2864.00     2864.00   \n",
       "mean         0.00     0.04       0.00           0.01       0.06        0.05   \n",
       "std          0.06     0.20       0.06           0.07       0.23        0.21   \n",
       "min          0.00     0.00       0.00           0.00       0.00        0.00   \n",
       "25%          0.00     0.00       0.00           0.00       0.00        0.00   \n",
       "50%          0.00     0.00       0.00           0.00       0.00        0.00   \n",
       "75%          0.00     0.00       0.00           0.00       0.00        0.00   \n",
       "max          1.00     1.00       1.00           1.00       1.00        1.00   \n",
       "\n",
       "         Yukon  \n",
       "count  2864.00  \n",
       "mean      0.01  \n",
       "std       0.11  \n",
       "min       0.00  \n",
       "25%       0.00  \n",
       "50%       0.00  \n",
       "75%       0.00  \n",
       "max       1.00  \n",
       "\n",
       "[8 rows x 45 columns]"
      ]
     },
     "execution_count": 64,
     "metadata": {},
     "output_type": "execute_result"
    }
   ],
   "source": [
    "df13.describe().round(2)"
   ]
  },
  {
   "cell_type": "code",
   "execution_count": 65,
   "id": "04efee43-2903-4365-ab2c-6b1b3624fb6f",
   "metadata": {
    "tags": []
   },
   "outputs": [
    {
     "data": {
      "text/plain": [
       "Index(['BEDS', 'BATHS', 'SQFT', 'Antioch', 'Baltimore', 'Boston', 'Brooklyn',\n",
       "       'Charlotte', 'Chicago', 'Cleveland', 'Columbus', 'Dallas', 'Detroit',\n",
       "       'Dublin', 'Edmond', 'Fort Worth', 'Hammond', 'Hermitage', 'Houston',\n",
       "       'Indianapolis', 'Jacksonville', 'La Jolla', 'La Vergne', 'Madison',\n",
       "       'Miami', 'Naperville', 'Nashville', 'New York', 'Oak Park',\n",
       "       'Oklahoma City', 'Old Hickory', 'Phoenix', 'Queens', 'San Antonio',\n",
       "       'San Diego', 'San Francisco', 'San Jose', 'Scottsdale', 'Seattle',\n",
       "       'Stallings', 'Staten Island', 'Vancouver', 'Washington', 'Yukon'],\n",
       "      dtype='object')"
      ]
     },
     "execution_count": 65,
     "metadata": {},
     "output_type": "execute_result"
    }
   ],
   "source": [
    "X.columns"
   ]
  },
  {
   "cell_type": "code",
   "execution_count": 66,
   "id": "2a491cef-a17c-4ff4-b188-3a88c7fde3cd",
   "metadata": {
    "tags": []
   },
   "outputs": [],
   "source": [
    "def predict_price(CITY,SQFT,BATHS,BEDS):    \n",
    "    loc_index = np.where(X.columns==CITY)[0][0]\n",
    "\n",
    "    x = np.zeros(len(X.columns))\n",
    "    x[0] = BEDS\n",
    "    x[1] = BATHS\n",
    "    x[2] = SQFT\n",
    "    if loc_index >= 0:\n",
    "        x[loc_index] = 1\n",
    "\n",
    "    return regressor.predict([x])[0]"
   ]
  },
  {
   "cell_type": "code",
   "execution_count": 67,
   "id": "6ade5f51-97e5-4f30-9264-625967ff49bd",
   "metadata": {
    "tags": []
   },
   "outputs": [
    {
     "name": "stderr",
     "output_type": "stream",
     "text": [
      "C:\\Users\\User\\AppData\\Local\\Packages\\PythonSoftwareFoundation.Python.3.10_qbz5n2kfra8p0\\LocalCache\\local-packages\\Python310\\site-packages\\sklearn\\base.py:420: UserWarning: X does not have valid feature names, but DecisionTreeRegressor was fitted with feature names\n",
      "  warnings.warn(\n"
     ]
    },
    {
     "data": {
      "text/plain": [
       "100000.0"
      ]
     },
     "execution_count": 67,
     "metadata": {},
     "output_type": "execute_result"
    }
   ],
   "source": [
    "predict_price('Detroit', 1000, 1, 2 )"
   ]
  },
  {
   "cell_type": "code",
   "execution_count": 68,
   "id": "d128a2d7-2ec6-4cc2-a218-3af941c64984",
   "metadata": {
    "tags": []
   },
   "outputs": [
    {
     "data": {
      "text/plain": [
       "Index(['BEDS', 'BATHS', 'SQFT', 'Antioch', 'Baltimore', 'Boston', 'Brooklyn',\n",
       "       'Charlotte', 'Chicago', 'Cleveland', 'Columbus', 'Dallas', 'Detroit',\n",
       "       'Dublin', 'Edmond', 'Fort Worth', 'Hammond', 'Hermitage', 'Houston',\n",
       "       'Indianapolis', 'Jacksonville', 'La Jolla', 'La Vergne', 'Madison',\n",
       "       'Miami', 'Naperville', 'Nashville', 'New York', 'Oak Park',\n",
       "       'Oklahoma City', 'Old Hickory', 'Phoenix', 'Queens', 'San Antonio',\n",
       "       'San Diego', 'San Francisco', 'San Jose', 'Scottsdale', 'Seattle',\n",
       "       'Stallings', 'Staten Island', 'Vancouver', 'Washington', 'Yukon'],\n",
       "      dtype='object')"
      ]
     },
     "execution_count": 68,
     "metadata": {},
     "output_type": "execute_result"
    }
   ],
   "source": [
    "X.columns"
   ]
  },
  {
   "cell_type": "code",
   "execution_count": 69,
   "id": "7bc1a9b2-b8dc-4dc9-80e0-c59eafa05477",
   "metadata": {
    "tags": []
   },
   "outputs": [
    {
     "name": "stderr",
     "output_type": "stream",
     "text": [
      "C:\\Users\\User\\AppData\\Local\\Packages\\PythonSoftwareFoundation.Python.3.10_qbz5n2kfra8p0\\LocalCache\\local-packages\\Python310\\site-packages\\sklearn\\base.py:420: UserWarning: X does not have valid feature names, but DecisionTreeRegressor was fitted with feature names\n",
      "  warnings.warn(\n"
     ]
    },
    {
     "data": {
      "text/plain": [
       "1150000.0"
      ]
     },
     "execution_count": 69,
     "metadata": {},
     "output_type": "execute_result"
    }
   ],
   "source": [
    "predict_price('San Jose', 1511, 2, 4 )"
   ]
  },
  {
   "cell_type": "code",
   "execution_count": 76,
   "id": "39dffaf3-3946-4305-a004-61ccbb331448",
   "metadata": {
    "tags": []
   },
   "outputs": [],
   "source": [
    "import pickle\n",
    "with open('home_price_prediction.pickle', 'wb') as f:\n",
    "    pickle.dump(regressor, f)"
   ]
  },
  {
   "cell_type": "code",
   "execution_count": 77,
   "id": "8cd5e301-612f-497c-bf06-d9936bdceea5",
   "metadata": {
    "tags": []
   },
   "outputs": [],
   "source": [
    "import json\n",
    "columns = {\n",
    "    'data_columns' : [col.lower() for col in X.columns]\n",
    "}\n",
    "with open(\"columns.json\",\"w\") as f:\n",
    "    f.write(json.dumps(columns))"
   ]
  },
  {
   "cell_type": "code",
   "execution_count": null,
   "id": "c0839461-a36d-4d92-b595-fffebf779cc5",
   "metadata": {},
   "outputs": [],
   "source": []
  }
 ],
 "metadata": {
  "kernelspec": {
   "display_name": "Python 3",
   "language": "python",
   "name": "python3"
  },
  "language_info": {
   "codemirror_mode": {
    "name": "ipython",
    "version": 3
   },
   "file_extension": ".py",
   "mimetype": "text/x-python",
   "name": "python",
   "nbconvert_exporter": "python",
   "pygments_lexer": "ipython3",
   "version": "3.10.10"
  },
  "vscode": {
   "interpreter": {
    "hash": "3b7e9cb8e453d6cda0fe8c8dd13f891a1f09162f0e7c66ffeae7751a7aecf00d"
   }
  }
 },
 "nbformat": 4,
 "nbformat_minor": 5
}
